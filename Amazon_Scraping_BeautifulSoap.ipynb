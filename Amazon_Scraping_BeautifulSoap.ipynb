{
 "cells": [
  {
   "cell_type": "code",
   "execution_count": 27,
   "id": "097941d4",
   "metadata": {},
   "outputs": [],
   "source": []
  },
  {
   "cell_type": "code",
   "execution_count": 1,
   "id": "bad182e6",
   "metadata": {},
   "outputs": [],
   "source": [
    "import requests\n",
    "from bs4 import BeautifulSoup\n",
    "import pandas as pd\n",
    "from datetime import datetime\n",
    "from dateutil.parser import parse\n",
    "import re"
   ]
  },
  {
   "cell_type": "code",
   "execution_count": 68,
   "id": "74842f81",
   "metadata": {},
   "outputs": [],
   "source": [
    "headers={\"authority\": \"www.amazon.com\",\n",
    "    \"user-agent\": \"Mozilla/5.0 (Windows NT 10.0; Win64; x64) AppleWebKit/537.36 (KHTML, like Gecko) Chrome/123.0.0.0 Safari/537.36\",\n",
    "    \"accept\": \"text/html,application/xhtml+xml,application/xml;q=0.9,image/avif,image/webp,image/apng,*/*;q=0.8,application/signed-exchange;v=b3;q=0.9\",\n",
    "    \"accept-language\": \"en-US;q=0.9,bn;q=0.8\", \"sec-ch-ua\":'\" Not A;Brand\";v=\"99\",\"Chromium\";v=\"102\", \"Google Chrome\";v=\"102\"'\n",
    "}\n",
    "url=\"https://www.amazon.com/Heat-Storm-HS-1500-PHX-WIFI-Infrared-Heater/product-reviews/B07JXRWJ8D/ref=cm_cr_dp_d_show_all_btm?ie=UTF8&reviewerType=all_reviews\"\n",
    "len_page=100"
   ]
  },
  {
   "cell_type": "code",
   "execution_count": 69,
   "id": "e6a75572",
   "metadata": {},
   "outputs": [],
   "source": [
    "def reviewsHtml(url,len_page):\n",
    "    soups=[]\n",
    "    for page_no in range(1,len_page+1):\n",
    "        params={\n",
    "            'ie':'UTF8',\n",
    "            'reviewerType':'all_reviews',\n",
    "            'filterByStar': 'critical',\n",
    "            'pageNumber': page_no\n",
    "        }\n",
    "        response=requests.get(url,headers=headers)\n",
    "        soup=BeautifulSoup(response.text,'lxml')\n",
    "        soups.append(soup)\n",
    "    return soups"
   ]
  },
  {
   "cell_type": "code",
   "execution_count": 70,
   "id": "22f9a1e5",
   "metadata": {},
   "outputs": [],
   "source": [
    "def getReviews(html_data):\n",
    "    data_dicts=[]\n",
    "    boxes=html_data.select('div[data-hook=\"review\"]')\n",
    "    for box in boxes:\n",
    "        try:\n",
    "            name=box.select_one('[class=\"a-profile-name\"]').text.strip()\n",
    "        except Exception as e:\n",
    "            name='N/A'\n",
    "        try:\n",
    "            stars=box.select_one('[data-hook=\"review-star-rating\"]').text.strip().split('out')[0]\n",
    "        except Exception as e:\n",
    "            stars='N/A'\n",
    "        try:\n",
    "            title=box.select_one('[data-hook=\"review-title\"]').text.strip()\n",
    "        except Exception as e:\n",
    "            title='N/A'        \n",
    "\n",
    "        try:\n",
    "            datetime_str = box.select_one('[data-hook=\"review-date\"]').text.strip()\n",
    "            \n",
    "            match = re.search(r\"on ([\\w ,]+)\", datetime_str)\n",
    "#             print('Unparsed ',datetime_str,'\\n','Match ',match)\n",
    "            try:\n",
    "                date = parse(match[1]).strftime(\"%d/%m/%Y\")\n",
    "            except Exception as e:\n",
    "                date = 'N/A'\n",
    "#             print('Parsed ',date,'\\n')\n",
    "        except Exception as e:\n",
    "            date = 'N/A'\n",
    "        \n",
    "        try:\n",
    "            description=box.select_one('[data-hook=\"review-body\"]').text.strip()\n",
    "        except Exception as e:\n",
    "            description='N/A'\n",
    "        data_dict={'Name':name,\n",
    "                  'Stars':stars,\n",
    "                  'Title':title,\n",
    "                  'Date':date,\n",
    "                  'Description':description}\n",
    "        data_dicts.append(data_dict)\n",
    "    return data_dicts"
   ]
  },
  {
   "cell_type": "code",
   "execution_count": 73,
   "id": "b17ff792",
   "metadata": {},
   "outputs": [],
   "source": []
  },
  {
   "cell_type": "code",
   "execution_count": 74,
   "id": "467724dd",
   "metadata": {},
   "outputs": [],
   "source": []
  },
  {
   "cell_type": "code",
   "execution_count": 75,
   "id": "d0c6abfc",
   "metadata": {
    "scrolled": true
   },
   "outputs": [],
   "source": [
    "html_datas=reviewsHtml(url,len_page)\n",
    "reviews=[]\n",
    "for html_data in html_datas:\n",
    "    review=getReviews(html_data)\n",
    "    reviews +=review"
   ]
  },
  {
   "cell_type": "code",
   "execution_count": 76,
   "id": "adbe9029",
   "metadata": {},
   "outputs": [],
   "source": [
    "df_reviews=pd.DataFrame(reviews)"
   ]
  },
  {
   "cell_type": "code",
   "execution_count": 77,
   "id": "a8fa3f6a",
   "metadata": {},
   "outputs": [
    {
     "data": {
      "text/plain": [
       "1000"
      ]
     },
     "execution_count": 77,
     "metadata": {},
     "output_type": "execute_result"
    }
   ],
   "source": [
    "len(df_reviews)"
   ]
  },
  {
   "cell_type": "code",
   "execution_count": 78,
   "id": "c56e9819",
   "metadata": {},
   "outputs": [
    {
     "name": "stdout",
     "output_type": "stream",
     "text": [
      "Name                                                   SlimThick\n",
      "Stars                                                       5.0 \n",
      "Title                       5.0 out of 5 stars\\nThese r the best\n",
      "Date                                                  03/04/2024\n",
      "Description    We have a 3br 1bath home w large living & kitc...\n",
      "Name: 530, dtype: object\n"
     ]
    }
   ],
   "source": [
    "# print('Title: ', df_reviews['Title'][53] ,'\\n\\nDescription',df_reviews['Description'][53])\n",
    "print(df_reviews.iloc[530])"
   ]
  },
  {
   "cell_type": "code",
   "execution_count": 79,
   "id": "3e5b95fe",
   "metadata": {},
   "outputs": [],
   "source": [
    "df_reviews.to_csv(r\"D:\\Macys\\Web Scrapping\\Sample_02.csv\",index=False)\n",
    "# Took nearly 3 mins"
   ]
  },
  {
   "cell_type": "code",
   "execution_count": 81,
   "id": "133f2e08",
   "metadata": {},
   "outputs": [
    {
     "data": {
      "text/plain": [
       "Name           0\n",
       "Stars          0\n",
       "Title          0\n",
       "Date           0\n",
       "Description    0\n",
       "dtype: int64"
      ]
     },
     "execution_count": 81,
     "metadata": {},
     "output_type": "execute_result"
    }
   ],
   "source": [
    "df_reviews.isna().sum()"
   ]
  },
  {
   "cell_type": "code",
   "execution_count": 83,
   "id": "9134a170",
   "metadata": {},
   "outputs": [
    {
     "data": {
      "text/plain": [
       "100"
      ]
     },
     "execution_count": 83,
     "metadata": {},
     "output_type": "execute_result"
    }
   ],
   "source": [
    "len(df_reviews[df_reviews['Name']=='NA'])\n",
    "# So there are 100 Names that are NA but these are user inputed and not real NAs"
   ]
  },
  {
   "cell_type": "code",
   "execution_count": 87,
   "id": "bcd19486",
   "metadata": {},
   "outputs": [
    {
     "data": {
      "text/plain": [
       "0"
      ]
     },
     "execution_count": 87,
     "metadata": {},
     "output_type": "execute_result"
    }
   ],
   "source": [
    "len(df_reviews[df_reviews['Description']=='NA'])"
   ]
  },
  {
   "cell_type": "code",
   "execution_count": null,
   "id": "06e89d57",
   "metadata": {},
   "outputs": [],
   "source": []
  }
 ],
 "metadata": {
  "kernelspec": {
   "display_name": "Python 3 (ipykernel)",
   "language": "python",
   "name": "python3"
  },
  "language_info": {
   "codemirror_mode": {
    "name": "ipython",
    "version": 3
   },
   "file_extension": ".py",
   "mimetype": "text/x-python",
   "name": "python",
   "nbconvert_exporter": "python",
   "pygments_lexer": "ipython3",
   "version": "3.11.5"
  }
 },
 "nbformat": 4,
 "nbformat_minor": 5
}
