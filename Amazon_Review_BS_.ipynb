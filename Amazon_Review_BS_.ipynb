{
  "cells": [
    {
      "cell_type": "code",
      "source": [],
      "metadata": {
        "id": "J6Z9L-bmdYa3"
      },
      "id": "J6Z9L-bmdYa3",
      "execution_count": null,
      "outputs": []
    },
    {
      "cell_type": "markdown",
      "source": [
        "**Basic Imports**"
      ],
      "metadata": {
        "id": "4SUXq2ZWeMjL"
      },
      "id": "4SUXq2ZWeMjL"
    },
    {
      "cell_type": "code",
      "execution_count": null,
      "id": "bad182e6",
      "metadata": {
        "id": "bad182e6"
      },
      "outputs": [],
      "source": [
        "import requests\n",
        "from bs4 import BeautifulSoup\n",
        "import pandas as pd\n",
        "import datetime\n",
        "import re\n",
        "from dateutil.parser import parse"
      ]
    },
    {
      "cell_type": "code",
      "source": [],
      "metadata": {
        "id": "4aVTlVEIeVvm"
      },
      "id": "4aVTlVEIeVvm",
      "execution_count": null,
      "outputs": []
    },
    {
      "cell_type": "markdown",
      "source": [
        "**Website and useragents**"
      ],
      "metadata": {
        "id": "uu7mV7IseWlx"
      },
      "id": "uu7mV7IseWlx"
    },
    {
      "cell_type": "code",
      "source": [
        "headers = {\n",
        "\n",
        "    \"authority\": \"www.amazon.com\",\n",
        "    \"user-agent\": \"Mozilla/5.0 (Windows NT 10.0; Win64; x64) AppleWebKit/537.36 (KHTML, like Gecko) Chrome/123.0.0.0 Safari/537.36\",\n",
        "    \"accept\": \"text/html,application/xhtml+xml,application/xml;q=0.9,image/avif,image/webp,image/apng,*/*;q=0.8,application/signed-exchange;v=b3;q=0.9\",\n",
        "    \"accept-language\": \"en-US;q=0.9,bn;q=0.8\",\n",
        "    \"sec-ch-ua\": '\" Not A;Brand\";v=\"99\",\"Chromium\";v=\"102\", \"Google Chrome\";v=\"102\"'\n",
        "}"
      ],
      "metadata": {
        "id": "E_mZgNc3eUdV"
      },
      "id": "E_mZgNc3eUdV",
      "execution_count": null,
      "outputs": []
    },
    {
      "cell_type": "code",
      "source": [],
      "metadata": {
        "id": "I_bgC3ZMek6R"
      },
      "id": "I_bgC3ZMek6R",
      "execution_count": null,
      "outputs": []
    },
    {
      "cell_type": "markdown",
      "source": [
        "Function to get HTML Data"
      ],
      "metadata": {
        "id": "a7ccgPBfemgE"
      },
      "id": "a7ccgPBfemgE"
    },
    {
      "cell_type": "code",
      "execution_count": 28,
      "id": "QCaU2tf4njYj",
      "metadata": {
        "id": "QCaU2tf4njYj"
      },
      "outputs": [],
      "source": [
        "def reviewsHtml(url, len_page):\n",
        "    soups = []\n",
        "    check=0\n",
        "    for page_no in range(1, len_page+1):\n",
        "        params = {\n",
        "            'ie': 'UTF8',\n",
        "            'reviewerType': 'all_reviews',\n",
        "            'filterByStar': 'critical',\n",
        "            'pageNumber': page_no\n",
        "        }\n",
        "        response = requests.get(url, headers=headers, params=params)\n",
        "        soup = BeautifulSoup(response.text, 'lxml')\n",
        "\n",
        "        # Check if the page is empty by examining the HTML content\n",
        "        if not soup.select('div[data-hook=\"review\"]'):\n",
        "            # If no review elements are found, the page is likely empty\n",
        "            print(f\"Page {page_no} is empty. Stopping the loop.\")\n",
        "            check=1\n",
        "            break\n",
        "\n",
        "        soups.append(soup)\n",
        "\n",
        "    return (soups,check)\n"
      ]
    },
    {
      "cell_type": "markdown",
      "source": [
        "Function to get product name"
      ],
      "metadata": {
        "id": "BIzvP3k4eqv9"
      },
      "id": "BIzvP3k4eqv9"
    },
    {
      "cell_type": "code",
      "execution_count": null,
      "id": "rWNd_F9aUHrM",
      "metadata": {
        "id": "rWNd_F9aUHrM"
      },
      "outputs": [],
      "source": [
        "def get_prod_name(html_data):\n",
        "  try:\n",
        "\n",
        "    # Find the anchor tag with 'class=\"a-link-normal\"'\n",
        "    product_link_element = html_data.select_one('a[class=\"a-link-normal\"]')\n",
        "\n",
        "    # If found, extract the text content of the anchor tag (assuming product name is within)\n",
        "    if product_link_element:\n",
        "        prod_name = product_link_element.text.strip()\n",
        "    else:\n",
        "        prod_name = 'N/A'  # Handle cases where product link element is not found\n",
        "    # print(prod_name)\n",
        "  except Exception as e:\n",
        "    print(f\"Error extracting product name: {e}\")\n",
        "\n",
        "  return(prod_name)"
      ]
    },
    {
      "cell_type": "markdown",
      "source": [
        "Function to parse the reviews from HTML data"
      ],
      "metadata": {
        "id": "YetrFjgWev3g"
      },
      "id": "YetrFjgWev3g"
    },
    {
      "cell_type": "code",
      "execution_count": null,
      "id": "eb8mleZEoA-P",
      "metadata": {
        "id": "eb8mleZEoA-P"
      },
      "outputs": [],
      "source": [
        "def getReviews(html_data, prod_name):\n",
        "\n",
        "    data_dicts=[]\n",
        "    boxes=html_data.select('div[data-hook=\"review\"]')\n",
        "\n",
        "    for box in boxes:\n",
        "\n",
        "      try:\n",
        "          name=box.select_one('[class=\"a-profile-name\"]').text.strip()\n",
        "      except Exception as e:\n",
        "          name='N/A'\n",
        "\n",
        "      try:\n",
        "          stars=box.select_one('[data-hook=\"review-star-rating\"]').text.strip().split('out')[0]\n",
        "      except Exception as e:\n",
        "          stars='N/A'\n",
        "\n",
        "      try:\n",
        "          title=box.select_one('[data-hook=\"review-title\"]').text.strip()\n",
        "      except Exception as e:\n",
        "          title='N/A'\n",
        "\n",
        "      try:\n",
        "          datetime_str = box.select_one('[data-hook=\"review-date\"]').text.strip()\n",
        "\n",
        "          match = re.search(r\"on ([\\w ,]+)\", datetime_str)\n",
        "          # print('Unparsed ',datetime_str,'\\n','Match ',match)\n",
        "          try:\n",
        "              date = parse(match[1]).strftime(\"%d/%m/%Y\")\n",
        "          except Exception as e:\n",
        "              date = 'N/A'\n",
        "          # print('Parsed ',date,'\\n')\n",
        "      except Exception as e:\n",
        "          date = 'N/A'\n",
        "\n",
        "      try:\n",
        "          description=box.select_one('[data-hook=\"review-body\"]').text.strip()\n",
        "      except Exception as e:\n",
        "          description='N/A'\n",
        "\n",
        "      data_dict={'Name':name,\n",
        "                  'Product Name':prod_name,\n",
        "                'Stars':stars,\n",
        "                'Title':title,\n",
        "                'Date':date,\n",
        "                'Description':description}\n",
        "      data_dicts.append(data_dict)\n",
        "    return data_dicts"
      ]
    },
    {
      "cell_type": "markdown",
      "source": [
        "List of URLs to be scrapped:- give the reviews section url"
      ],
      "metadata": {
        "id": "OgyQOG9Ve2O3"
      },
      "id": "OgyQOG9Ve2O3"
    },
    {
      "cell_type": "code",
      "execution_count": 30,
      "id": "28jqsXs6oBdX",
      "metadata": {
        "id": "28jqsXs6oBdX"
      },
      "outputs": [],
      "source": [
        "shoe = \"https://www.amazon.in/Nike-Revolution-Mountain-Blue-T-Blue-908999-403/product-reviews/B078NKQVZZ/ref=cm_cr_dp_d_show_all_btm?ie=UTF8&reviewerType=all_reviews\"\n",
        "iphn = \"https://www.amazon.in/Apple-iPhone-15-128-GB/product-reviews/B0CHX1W1XY/ref=cm_cr_dp_d_show_all_btm?ie=UTF8&reviewerType=all_reviews\"\n",
        "head = \"https://www.amazon.in/boAt-BassHeads-100-Headphones-Black/product-reviews/B071Z8M4KX/ref=cm_cr_dp_d_show_all_btm?ie=UTF8&reviewerType=all_reviews\"\n",
        "bag = \"https://www.amazon.in/Bosca-Leather-Black-Utility-Kit/product-reviews/B003X4XVEC/ref=cm_cr_dp_d_show_all_btm?ie=UTF8&reviewerType=all_reviews\"\n",
        "url_lst = [shoe,iphn,head]"
      ]
    },
    {
      "cell_type": "code",
      "execution_count": null,
      "id": "I0rYmvC8QVHq",
      "metadata": {
        "id": "I0rYmvC8QVHq"
      },
      "outputs": [],
      "source": []
    },
    {
      "cell_type": "code",
      "execution_count": null,
      "id": "NpZo5Ni_GCyZ",
      "metadata": {
        "id": "NpZo5Ni_GCyZ"
      },
      "outputs": [],
      "source": []
    },
    {
      "cell_type": "markdown",
      "id": "CNO-eXDVGDv7",
      "metadata": {
        "id": "CNO-eXDVGDv7"
      },
      "source": [
        "**Scrapping for specified number of pages**"
      ]
    },
    {
      "cell_type": "code",
      "execution_count": null,
      "id": "xrYU22CDoBue",
      "metadata": {
        "id": "xrYU22CDoBue"
      },
      "outputs": [],
      "source": [
        "start = datetime.datetime.now()\n",
        "\n",
        "len_page = 40  # Define the number of pages you want to scrape\n",
        "j=0\n",
        "for i in url_lst:\n",
        "\n",
        "  # prod_name =\n",
        "\n",
        "  reviews = []\n",
        "  html_datas = reviewsHtml(i, len_page)\n",
        "\n",
        "\n",
        "  for html_data in html_datas:\n",
        "      prod_name = get_prod_name(html_data)\n",
        "      # print(len(html_data))\n",
        "      review = getReviews( html_data, prod_name)  # Assuming you have a function getReviews() to extract reviews from HTML\n",
        "      reviews += review\n",
        "      if j==0:\n",
        "        df_reviews = pd.DataFrame(reviews)\n",
        "      else:\n",
        "        df_reviews = pd.concat([df_reviews, pd.DataFrame(reviews)], ignore_index=True)\n",
        "  j+=1\n",
        "\n",
        "print(\"Time taken is \", datetime.datetime.now()-start)\n",
        "print(\"Length of Dataframe is \", len(df_reviews))\n",
        "# print(df_reviews.head(5))"
      ]
    },
    {
      "cell_type": "code",
      "execution_count": 30,
      "id": "iSbjecEIGMeJ",
      "metadata": {
        "id": "iSbjecEIGMeJ"
      },
      "outputs": [],
      "source": []
    },
    {
      "cell_type": "markdown",
      "id": "YDSniyw3GNZj",
      "metadata": {
        "id": "YDSniyw3GNZj"
      },
      "source": [
        "**Scrapping for all the avilable pages**"
      ]
    },
    {
      "cell_type": "code",
      "execution_count": 29,
      "id": "k3rVt9sQF5Xs",
      "metadata": {
        "colab": {
          "base_uri": "https://localhost:8080/"
        },
        "id": "k3rVt9sQF5Xs",
        "outputId": "05d713a2-98b0-42c4-f7cf-505152e0ad61"
      },
      "outputs": [
        {
          "output_type": "stream",
          "name": "stdout",
          "text": [
            "Page 5 is empty. Stopping the loop.\n",
            "Time taken is  0:00:12.051148\n",
            "Length of Dataframe is  93\n"
          ]
        }
      ],
      "source": [
        "start = datetime.datetime.now()\n",
        "# creating element to check if the page is empty or not\n",
        "flag = 0\n",
        "for i, url in enumerate(url_lst):  # Use enumerate to keep track of the index\n",
        "    reviews = []\n",
        "    page_num = 1  # Start with page 1\n",
        "\n",
        "    while True:\n",
        "        html_datas, flag = reviewsHtml(url, page_num)  # Fetch HTML data for the current page\n",
        "        if flag == 1:  # Stop if no more pages are available\n",
        "            break\n",
        "\n",
        "        for html_data in html_datas:\n",
        "            prod_name = get_prod_name(html_data)\n",
        "            review = getReviews(html_data, prod_name)  # Assuming you have a function getReviews() to extract reviews from HTML\n",
        "            reviews += review\n",
        "\n",
        "        page_num += 1  # Move to the next page\n",
        "\n",
        "    if i == 0:\n",
        "        df_reviews = pd.DataFrame(reviews)\n",
        "    else:\n",
        "        df_reviews = pd.concat([df_reviews, pd.DataFrame(reviews)], ignore_index=True)\n",
        "\n",
        "print(\"Time taken is \", datetime.datetime.now()-start)\n",
        "print(\"Length of Dataframe is \", len(df_reviews))\n"
      ]
    },
    {
      "cell_type": "code",
      "execution_count": null,
      "id": "7F74wSVMyKgv",
      "metadata": {
        "id": "7F74wSVMyKgv"
      },
      "outputs": [],
      "source": [
        "# 20 sec for 1000 records from 3 different links"
      ]
    },
    {
      "cell_type": "code",
      "source": [],
      "metadata": {
        "id": "4fUwiPSCfJR_"
      },
      "id": "4fUwiPSCfJR_",
      "execution_count": null,
      "outputs": []
    },
    {
      "cell_type": "markdown",
      "source": [
        "# Extrass"
      ],
      "metadata": {
        "id": "taP2rDLlf48a"
      },
      "id": "taP2rDLlf48a"
    },
    {
      "cell_type": "code",
      "execution_count": null,
      "id": "k7oNxoXrwLUe",
      "metadata": {
        "colab": {
          "base_uri": "https://localhost:8080/"
        },
        "id": "k7oNxoXrwLUe",
        "outputId": "23fbb23a-3e61-4c0c-fc5c-3b030d2cf581"
      },
      "outputs": [
        {
          "name": "stdout",
          "output_type": "stream",
          "text": [
            "boAt BassHeads 100 in-Ear Wired Headphones with Mic (Black)\n"
          ]
        }
      ],
      "source": [
        "print(prod_name)"
      ]
    },
    {
      "cell_type": "code",
      "execution_count": null,
      "id": "EPcSd2g0rrw9",
      "metadata": {
        "colab": {
          "base_uri": "https://localhost:8080/",
          "height": 293
        },
        "id": "EPcSd2g0rrw9",
        "outputId": "d4444496-6083-4853-f583-e555ee09286e"
      },
      "outputs": [
        {
          "data": {
            "application/vnd.google.colaboratory.intrinsic+json": {
              "repr_error": "0",
              "type": "dataframe"
            },
            "text/html": [
              "\n",
              "  <div id=\"df-6e271cdd-9efd-4842-b812-465e56a601c0\" class=\"colab-df-container\">\n",
              "    <div>\n",
              "<style scoped>\n",
              "    .dataframe tbody tr th:only-of-type {\n",
              "        vertical-align: middle;\n",
              "    }\n",
              "\n",
              "    .dataframe tbody tr th {\n",
              "        vertical-align: top;\n",
              "    }\n",
              "\n",
              "    .dataframe thead th {\n",
              "        text-align: right;\n",
              "    }\n",
              "</style>\n",
              "<table border=\"1\" class=\"dataframe\">\n",
              "  <thead>\n",
              "    <tr style=\"text-align: right;\">\n",
              "      <th></th>\n",
              "      <th>Name</th>\n",
              "      <th>Product Name</th>\n",
              "      <th>Stars</th>\n",
              "      <th>Title</th>\n",
              "      <th>Date</th>\n",
              "      <th>Description</th>\n",
              "    </tr>\n",
              "  </thead>\n",
              "  <tbody>\n",
              "    <tr>\n",
              "      <th>1077</th>\n",
              "      <td>Shanmugaraj</td>\n",
              "      <td>boAt BassHeads 100 in-Ear Wired Headphones wit...</td>\n",
              "      <td>2.0</td>\n",
              "      <td>2.0 out of 5 stars\\nBuds are not fixed well</td>\n",
              "      <td>28/01/2024</td>\n",
              "      <td>After using this headset, the buds are stuck i...</td>\n",
              "    </tr>\n",
              "    <tr>\n",
              "      <th>1078</th>\n",
              "      <td>Yashik</td>\n",
              "      <td>boAt BassHeads 100 in-Ear Wired Headphones wit...</td>\n",
              "      <td>2.0</td>\n",
              "      <td>2.0 out of 5 stars\\nWorst music quality. Too m...</td>\n",
              "      <td>17/11/2023</td>\n",
              "      <td>Here is an honest review. Too much hype in rat...</td>\n",
              "    </tr>\n",
              "    <tr>\n",
              "      <th>1079</th>\n",
              "      <td>Balaji M</td>\n",
              "      <td>boAt BassHeads 100 in-Ear Wired Headphones wit...</td>\n",
              "      <td>2.0</td>\n",
              "      <td>2.0 out of 5 stars\\nMisfit</td>\n",
              "      <td>16/02/2024</td>\n",
              "      <td>Very poor quality. The jack seems to be a misf...</td>\n",
              "    </tr>\n",
              "    <tr>\n",
              "      <th>1080</th>\n",
              "      <td>Aravinda S.</td>\n",
              "      <td>boAt BassHeads 100 in-Ear Wired Headphones wit...</td>\n",
              "      <td>3.0</td>\n",
              "      <td>3.0 out of 5 stars\\nBoat wired Earphones</td>\n",
              "      <td>16/11/2023</td>\n",
              "      <td>The media could not be loaded.\\n              ...</td>\n",
              "    </tr>\n",
              "    <tr>\n",
              "      <th>1081</th>\n",
              "      <td>Suhail</td>\n",
              "      <td>boAt BassHeads 100 in-Ear Wired Headphones wit...</td>\n",
              "      <td>3.0</td>\n",
              "      <td>3.0 out of 5 stars\\nDurability</td>\n",
              "      <td>02/05/2023</td>\n",
              "      <td>Bought in September 2021 , got a replacement i...</td>\n",
              "    </tr>\n",
              "  </tbody>\n",
              "</table>\n",
              "</div>\n",
              "    <div class=\"colab-df-buttons\">\n",
              "\n",
              "  <div class=\"colab-df-container\">\n",
              "    <button class=\"colab-df-convert\" onclick=\"convertToInteractive('df-6e271cdd-9efd-4842-b812-465e56a601c0')\"\n",
              "            title=\"Convert this dataframe to an interactive table.\"\n",
              "            style=\"display:none;\">\n",
              "\n",
              "  <svg xmlns=\"http://www.w3.org/2000/svg\" height=\"24px\" viewBox=\"0 -960 960 960\">\n",
              "    <path d=\"M120-120v-720h720v720H120Zm60-500h600v-160H180v160Zm220 220h160v-160H400v160Zm0 220h160v-160H400v160ZM180-400h160v-160H180v160Zm440 0h160v-160H620v160ZM180-180h160v-160H180v160Zm440 0h160v-160H620v160Z\"/>\n",
              "  </svg>\n",
              "    </button>\n",
              "\n",
              "  <style>\n",
              "    .colab-df-container {\n",
              "      display:flex;\n",
              "      gap: 12px;\n",
              "    }\n",
              "\n",
              "    .colab-df-convert {\n",
              "      background-color: #E8F0FE;\n",
              "      border: none;\n",
              "      border-radius: 50%;\n",
              "      cursor: pointer;\n",
              "      display: none;\n",
              "      fill: #1967D2;\n",
              "      height: 32px;\n",
              "      padding: 0 0 0 0;\n",
              "      width: 32px;\n",
              "    }\n",
              "\n",
              "    .colab-df-convert:hover {\n",
              "      background-color: #E2EBFA;\n",
              "      box-shadow: 0px 1px 2px rgba(60, 64, 67, 0.3), 0px 1px 3px 1px rgba(60, 64, 67, 0.15);\n",
              "      fill: #174EA6;\n",
              "    }\n",
              "\n",
              "    .colab-df-buttons div {\n",
              "      margin-bottom: 4px;\n",
              "    }\n",
              "\n",
              "    [theme=dark] .colab-df-convert {\n",
              "      background-color: #3B4455;\n",
              "      fill: #D2E3FC;\n",
              "    }\n",
              "\n",
              "    [theme=dark] .colab-df-convert:hover {\n",
              "      background-color: #434B5C;\n",
              "      box-shadow: 0px 1px 3px 1px rgba(0, 0, 0, 0.15);\n",
              "      filter: drop-shadow(0px 1px 2px rgba(0, 0, 0, 0.3));\n",
              "      fill: #FFFFFF;\n",
              "    }\n",
              "  </style>\n",
              "\n",
              "    <script>\n",
              "      const buttonEl =\n",
              "        document.querySelector('#df-6e271cdd-9efd-4842-b812-465e56a601c0 button.colab-df-convert');\n",
              "      buttonEl.style.display =\n",
              "        google.colab.kernel.accessAllowed ? 'block' : 'none';\n",
              "\n",
              "      async function convertToInteractive(key) {\n",
              "        const element = document.querySelector('#df-6e271cdd-9efd-4842-b812-465e56a601c0');\n",
              "        const dataTable =\n",
              "          await google.colab.kernel.invokeFunction('convertToInteractive',\n",
              "                                                    [key], {});\n",
              "        if (!dataTable) return;\n",
              "\n",
              "        const docLinkHtml = 'Like what you see? Visit the ' +\n",
              "          '<a target=\"_blank\" href=https://colab.research.google.com/notebooks/data_table.ipynb>data table notebook</a>'\n",
              "          + ' to learn more about interactive tables.';\n",
              "        element.innerHTML = '';\n",
              "        dataTable['output_type'] = 'display_data';\n",
              "        await google.colab.output.renderOutput(dataTable, element);\n",
              "        const docLink = document.createElement('div');\n",
              "        docLink.innerHTML = docLinkHtml;\n",
              "        element.appendChild(docLink);\n",
              "      }\n",
              "    </script>\n",
              "  </div>\n",
              "\n",
              "\n",
              "<div id=\"df-eb8ef4d0-5882-4a64-b5c2-8fb9f63ca304\">\n",
              "  <button class=\"colab-df-quickchart\" onclick=\"quickchart('df-eb8ef4d0-5882-4a64-b5c2-8fb9f63ca304')\"\n",
              "            title=\"Suggest charts\"\n",
              "            style=\"display:none;\">\n",
              "\n",
              "<svg xmlns=\"http://www.w3.org/2000/svg\" height=\"24px\"viewBox=\"0 0 24 24\"\n",
              "     width=\"24px\">\n",
              "    <g>\n",
              "        <path d=\"M19 3H5c-1.1 0-2 .9-2 2v14c0 1.1.9 2 2 2h14c1.1 0 2-.9 2-2V5c0-1.1-.9-2-2-2zM9 17H7v-7h2v7zm4 0h-2V7h2v10zm4 0h-2v-4h2v4z\"/>\n",
              "    </g>\n",
              "</svg>\n",
              "  </button>\n",
              "\n",
              "<style>\n",
              "  .colab-df-quickchart {\n",
              "      --bg-color: #E8F0FE;\n",
              "      --fill-color: #1967D2;\n",
              "      --hover-bg-color: #E2EBFA;\n",
              "      --hover-fill-color: #174EA6;\n",
              "      --disabled-fill-color: #AAA;\n",
              "      --disabled-bg-color: #DDD;\n",
              "  }\n",
              "\n",
              "  [theme=dark] .colab-df-quickchart {\n",
              "      --bg-color: #3B4455;\n",
              "      --fill-color: #D2E3FC;\n",
              "      --hover-bg-color: #434B5C;\n",
              "      --hover-fill-color: #FFFFFF;\n",
              "      --disabled-bg-color: #3B4455;\n",
              "      --disabled-fill-color: #666;\n",
              "  }\n",
              "\n",
              "  .colab-df-quickchart {\n",
              "    background-color: var(--bg-color);\n",
              "    border: none;\n",
              "    border-radius: 50%;\n",
              "    cursor: pointer;\n",
              "    display: none;\n",
              "    fill: var(--fill-color);\n",
              "    height: 32px;\n",
              "    padding: 0;\n",
              "    width: 32px;\n",
              "  }\n",
              "\n",
              "  .colab-df-quickchart:hover {\n",
              "    background-color: var(--hover-bg-color);\n",
              "    box-shadow: 0 1px 2px rgba(60, 64, 67, 0.3), 0 1px 3px 1px rgba(60, 64, 67, 0.15);\n",
              "    fill: var(--button-hover-fill-color);\n",
              "  }\n",
              "\n",
              "  .colab-df-quickchart-complete:disabled,\n",
              "  .colab-df-quickchart-complete:disabled:hover {\n",
              "    background-color: var(--disabled-bg-color);\n",
              "    fill: var(--disabled-fill-color);\n",
              "    box-shadow: none;\n",
              "  }\n",
              "\n",
              "  .colab-df-spinner {\n",
              "    border: 2px solid var(--fill-color);\n",
              "    border-color: transparent;\n",
              "    border-bottom-color: var(--fill-color);\n",
              "    animation:\n",
              "      spin 1s steps(1) infinite;\n",
              "  }\n",
              "\n",
              "  @keyframes spin {\n",
              "    0% {\n",
              "      border-color: transparent;\n",
              "      border-bottom-color: var(--fill-color);\n",
              "      border-left-color: var(--fill-color);\n",
              "    }\n",
              "    20% {\n",
              "      border-color: transparent;\n",
              "      border-left-color: var(--fill-color);\n",
              "      border-top-color: var(--fill-color);\n",
              "    }\n",
              "    30% {\n",
              "      border-color: transparent;\n",
              "      border-left-color: var(--fill-color);\n",
              "      border-top-color: var(--fill-color);\n",
              "      border-right-color: var(--fill-color);\n",
              "    }\n",
              "    40% {\n",
              "      border-color: transparent;\n",
              "      border-right-color: var(--fill-color);\n",
              "      border-top-color: var(--fill-color);\n",
              "    }\n",
              "    60% {\n",
              "      border-color: transparent;\n",
              "      border-right-color: var(--fill-color);\n",
              "    }\n",
              "    80% {\n",
              "      border-color: transparent;\n",
              "      border-right-color: var(--fill-color);\n",
              "      border-bottom-color: var(--fill-color);\n",
              "    }\n",
              "    90% {\n",
              "      border-color: transparent;\n",
              "      border-bottom-color: var(--fill-color);\n",
              "    }\n",
              "  }\n",
              "</style>\n",
              "\n",
              "  <script>\n",
              "    async function quickchart(key) {\n",
              "      const quickchartButtonEl =\n",
              "        document.querySelector('#' + key + ' button');\n",
              "      quickchartButtonEl.disabled = true;  // To prevent multiple clicks.\n",
              "      quickchartButtonEl.classList.add('colab-df-spinner');\n",
              "      try {\n",
              "        const charts = await google.colab.kernel.invokeFunction(\n",
              "            'suggestCharts', [key], {});\n",
              "      } catch (error) {\n",
              "        console.error('Error during call to suggestCharts:', error);\n",
              "      }\n",
              "      quickchartButtonEl.classList.remove('colab-df-spinner');\n",
              "      quickchartButtonEl.classList.add('colab-df-quickchart-complete');\n",
              "    }\n",
              "    (() => {\n",
              "      let quickchartButtonEl =\n",
              "        document.querySelector('#df-eb8ef4d0-5882-4a64-b5c2-8fb9f63ca304 button');\n",
              "      quickchartButtonEl.style.display =\n",
              "        google.colab.kernel.accessAllowed ? 'block' : 'none';\n",
              "    })();\n",
              "  </script>\n",
              "</div>\n",
              "    </div>\n",
              "  </div>\n"
            ],
            "text/plain": [
              "             Name                                       Product Name Stars  \\\n",
              "1077  Shanmugaraj  boAt BassHeads 100 in-Ear Wired Headphones wit...  2.0    \n",
              "1078       Yashik  boAt BassHeads 100 in-Ear Wired Headphones wit...  2.0    \n",
              "1079     Balaji M  boAt BassHeads 100 in-Ear Wired Headphones wit...  2.0    \n",
              "1080  Aravinda S.  boAt BassHeads 100 in-Ear Wired Headphones wit...  3.0    \n",
              "1081       Suhail  boAt BassHeads 100 in-Ear Wired Headphones wit...  3.0    \n",
              "\n",
              "                                                  Title        Date  \\\n",
              "1077        2.0 out of 5 stars\\nBuds are not fixed well  28/01/2024   \n",
              "1078  2.0 out of 5 stars\\nWorst music quality. Too m...  17/11/2023   \n",
              "1079                         2.0 out of 5 stars\\nMisfit  16/02/2024   \n",
              "1080           3.0 out of 5 stars\\nBoat wired Earphones  16/11/2023   \n",
              "1081                     3.0 out of 5 stars\\nDurability  02/05/2023   \n",
              "\n",
              "                                            Description  \n",
              "1077  After using this headset, the buds are stuck i...  \n",
              "1078  Here is an honest review. Too much hype in rat...  \n",
              "1079  Very poor quality. The jack seems to be a misf...  \n",
              "1080  The media could not be loaded.\\n              ...  \n",
              "1081  Bought in September 2021 , got a replacement i...  "
            ]
          },
          "execution_count": 27,
          "metadata": {},
          "output_type": "execute_result"
        }
      ],
      "source": [
        "df_reviews.tail()"
      ]
    },
    {
      "cell_type": "code",
      "execution_count": null,
      "id": "QEcY9XqQ_-mT",
      "metadata": {
        "colab": {
          "base_uri": "https://localhost:8080/"
        },
        "id": "QEcY9XqQ_-mT",
        "outputId": "65e54da6-c411-48fe-bdb3-1533d27f8a0e"
      },
      "outputs": [
        {
          "data": {
            "text/plain": [
              "Product Name\n",
              "boAt BassHeads 100 in-Ear Wired Headphones with Mic (Black)             550\n",
              "Apple iPhone 15 (128 GB) - Black                                        499\n",
              "Nike Women's WMNS Revolution 4 Obsdn/Mountain Blue-T.Blue Running...     33\n",
              "Name: count, dtype: int64"
            ]
          },
          "execution_count": 28,
          "metadata": {},
          "output_type": "execute_result"
        }
      ],
      "source": [
        "df_reviews['Product Name'].value_counts()"
      ]
    },
    {
      "cell_type": "code",
      "execution_count": null,
      "id": "9A6GOWBw__J8",
      "metadata": {
        "colab": {
          "base_uri": "https://localhost:8080/"
        },
        "id": "9A6GOWBw__J8",
        "outputId": "cf012f9c-829f-495f-b67c-122b8d37356e"
      },
      "outputs": [
        {
          "data": {
            "text/plain": [
              "Name            0\n",
              "Product Name    0\n",
              "Stars           0\n",
              "Title           0\n",
              "Date            0\n",
              "Description     0\n",
              "dtype: int64"
            ]
          },
          "execution_count": 34,
          "metadata": {},
          "output_type": "execute_result"
        }
      ],
      "source": [
        "df_reviews.isna().sum()"
      ]
    },
    {
      "cell_type": "code",
      "execution_count": null,
      "id": "Jp4Lpm4wLu4c",
      "metadata": {
        "id": "Jp4Lpm4wLu4c"
      },
      "outputs": [],
      "source": []
    },
    {
      "cell_type": "code",
      "execution_count": null,
      "id": "KmDhcFqzvIgY",
      "metadata": {
        "colab": {
          "base_uri": "https://localhost:8080/"
        },
        "id": "KmDhcFqzvIgY",
        "outputId": "d0b8b957-0b32-4662-ec31-49cc35d28e3f"
      },
      "outputs": [
        {
          "data": {
            "text/plain": [
              "0"
            ]
          },
          "execution_count": 11,
          "metadata": {},
          "output_type": "execute_result"
        }
      ],
      "source": [
        "df_reviews['Product Name'].isna().sum()\n",
        "# df_reviews[df_reviews['Product Name']!='N/A']\n",
        "# df_reviews['Product Name'].value_counts()"
      ]
    },
    {
      "cell_type": "code",
      "execution_count": null,
      "id": "8ay7_WOh-IKu",
      "metadata": {
        "id": "8ay7_WOh-IKu"
      },
      "outputs": [],
      "source": []
    },
    {
      "cell_type": "code",
      "execution_count": null,
      "id": "tTcsgAq5tKWR",
      "metadata": {
        "colab": {
          "base_uri": "https://localhost:8080/"
        },
        "id": "tTcsgAq5tKWR",
        "outputId": "1dcfccf0-3c3a-4af4-fca3-06876660f3a7"
      },
      "outputs": [
        {
          "data": {
            "text/plain": [
              "1082"
            ]
          },
          "execution_count": 35,
          "metadata": {},
          "output_type": "execute_result"
        }
      ],
      "source": [
        "len(df_reviews)"
      ]
    },
    {
      "cell_type": "code",
      "execution_count": null,
      "id": "Xw5X3w_Bsk-E",
      "metadata": {
        "id": "Xw5X3w_Bsk-E"
      },
      "outputs": [],
      "source": []
    },
    {
      "cell_type": "code",
      "execution_count": null,
      "id": "dLqu6UrTuRHX",
      "metadata": {
        "id": "dLqu6UrTuRHX"
      },
      "outputs": [],
      "source": []
    },
    {
      "cell_type": "code",
      "execution_count": null,
      "id": "xcPyY1tpoCJd",
      "metadata": {
        "colab": {
          "base_uri": "https://localhost:8080/"
        },
        "id": "xcPyY1tpoCJd",
        "outputId": "4a06759e-ba1d-46ca-ae91-7fa8fc7ab94a"
      },
      "outputs": [
        {
          "name": "stdout",
          "output_type": "stream",
          "text": [
            "Have to return it because of quality issues also they deliverd the wrong size than the size orderd.later i bought it from flipkart at 1000rs less than here. \n",
            "\n",
            " I am usually a size 8. 8 was too small 8.5 too large. I am still giving 3 stars because they felt super bouncy and comfortable just wish they fit better. Returned \n",
            "\n",
            " Eak no ka bekar phone hai. PTA nhi Maine Kyu buy kiya, heat krta hai, camera quality to Eakdm bekar hai \n",
            "\n",
            " Mic quality is not that good for making phone calls. Sound quality is ok at that price. And durability is also good.\n"
          ]
        }
      ],
      "source": [
        "print(df_reviews['Description'][1],\"\\n\\n\",df_reviews[\"Description\"][11],\"\\n\\n\",df_reviews[\"Description\"][518],\"\\n\\n\",df_reviews[\"Description\"][827])"
      ]
    },
    {
      "cell_type": "code",
      "execution_count": null,
      "id": "74842f81",
      "metadata": {
        "colab": {
          "base_uri": "https://localhost:8080/",
          "height": 597
        },
        "id": "74842f81",
        "outputId": "cbf2a99e-260f-41c3-8026-6e559a107c04"
      },
      "outputs": [
        {
          "data": {
            "application/vnd.google.colaboratory.intrinsic+json": {
              "repr_error": "0",
              "type": "dataframe"
            },
            "text/html": [
              "\n",
              "  <div id=\"df-e4c04b65-bee6-490b-bea5-60338daf9b16\" class=\"colab-df-container\">\n",
              "    <div>\n",
              "<style scoped>\n",
              "    .dataframe tbody tr th:only-of-type {\n",
              "        vertical-align: middle;\n",
              "    }\n",
              "\n",
              "    .dataframe tbody tr th {\n",
              "        vertical-align: top;\n",
              "    }\n",
              "\n",
              "    .dataframe thead th {\n",
              "        text-align: right;\n",
              "    }\n",
              "</style>\n",
              "<table border=\"1\" class=\"dataframe\">\n",
              "  <thead>\n",
              "    <tr style=\"text-align: right;\">\n",
              "      <th></th>\n",
              "      <th>Name</th>\n",
              "      <th>Stars</th>\n",
              "      <th>Title</th>\n",
              "      <th>Date</th>\n",
              "      <th>Description</th>\n",
              "      <th>Product Name</th>\n",
              "    </tr>\n",
              "  </thead>\n",
              "  <tbody>\n",
              "    <tr>\n",
              "      <th>20</th>\n",
              "      <td>Ashish R.</td>\n",
              "      <td>1.0</td>\n",
              "      <td>1.0 out of 5 stars\\nHeating</td>\n",
              "      <td>23/03/2024</td>\n",
              "      <td>Without use kiye hi phone heat hota rhta h Bat...</td>\n",
              "      <td>NaN</td>\n",
              "    </tr>\n",
              "    <tr>\n",
              "      <th>21</th>\n",
              "      <td>sai chand</td>\n",
              "      <td>1.0</td>\n",
              "      <td>1.0 out of 5 stars\\nHeating Issue</td>\n",
              "      <td>15/03/2024</td>\n",
              "      <td>Facing heating issues. Camera quality is not i...</td>\n",
              "      <td>NaN</td>\n",
              "    </tr>\n",
              "    <tr>\n",
              "      <th>22</th>\n",
              "      <td>Balwant Rathore</td>\n",
              "      <td>1.0</td>\n",
              "      <td>1.0 out of 5 stars\\nआइफ़ोन १५</td>\n",
              "      <td>19/01/2024</td>\n",
              "      <td>camera quality very poor, performance इस लो</td>\n",
              "      <td>NaN</td>\n",
              "    </tr>\n",
              "    <tr>\n",
              "      <th>23</th>\n",
              "      <td>Naveen</td>\n",
              "      <td>1.0</td>\n",
              "      <td>1.0 out of 5 stars\\nBad</td>\n",
              "      <td>15/10/2023</td>\n",
              "      <td>Worst iphone I ever seen. I hate this phone . ...</td>\n",
              "      <td>NaN</td>\n",
              "    </tr>\n",
              "    <tr>\n",
              "      <th>24</th>\n",
              "      <td>Strongly  recommend don’t buy this, intolerabl...</td>\n",
              "      <td>1.0</td>\n",
              "      <td>1.0 out of 5 stars\\nTotally waste</td>\n",
              "      <td>23/11/2023</td>\n",
              "      <td>Heating issues even after 17.1.1 update</td>\n",
              "      <td>NaN</td>\n",
              "    </tr>\n",
              "    <tr>\n",
              "      <th>...</th>\n",
              "      <td>...</td>\n",
              "      <td>...</td>\n",
              "      <td>...</td>\n",
              "      <td>...</td>\n",
              "      <td>...</td>\n",
              "      <td>...</td>\n",
              "    </tr>\n",
              "    <tr>\n",
              "      <th>232</th>\n",
              "      <td>Placeholder</td>\n",
              "      <td>1.0</td>\n",
              "      <td>1.0 out of 5 stars\\nPro quality</td>\n",
              "      <td>04/12/2021</td>\n",
              "      <td>Quality not good bro quality</td>\n",
              "      <td>Verified Purchase</td>\n",
              "    </tr>\n",
              "    <tr>\n",
              "      <th>233</th>\n",
              "      <td>Rahul</td>\n",
              "      <td>1.0</td>\n",
              "      <td>1.0 out of 5 stars\\nExpired item</td>\n",
              "      <td>06/05/2021</td>\n",
              "      <td>Delivered about to expire item.</td>\n",
              "      <td>Verified Purchase</td>\n",
              "    </tr>\n",
              "    <tr>\n",
              "      <th>234</th>\n",
              "      <td>JAGADISH BARMAN</td>\n",
              "      <td>1.0</td>\n",
              "      <td>1.0 out of 5 stars\\nVery bad</td>\n",
              "      <td>28/08/2019</td>\n",
              "      <td>Faltu no 1..</td>\n",
              "      <td>Verified Purchase</td>\n",
              "    </tr>\n",
              "    <tr>\n",
              "      <th>235</th>\n",
              "      <td>Puneet Gothwal</td>\n",
              "      <td>1.0</td>\n",
              "      <td>1.0 out of 5 stars\\nLow quality and item shown...</td>\n",
              "      <td>15/08/2023</td>\n",
              "      <td>Fake Amazon sale. Lack of customer support.</td>\n",
              "      <td>Verified Purchase</td>\n",
              "    </tr>\n",
              "    <tr>\n",
              "      <th>236</th>\n",
              "      <td>Fazal</td>\n",
              "      <td>1.0</td>\n",
              "      <td>1.0 out of 5 stars\\nDont Buy over Description ...</td>\n",
              "      <td>05/05/2022</td>\n",
              "      <td>Fake Descriptions very Disappointed</td>\n",
              "      <td>Verified Purchase</td>\n",
              "    </tr>\n",
              "  </tbody>\n",
              "</table>\n",
              "<p>217 rows × 6 columns</p>\n",
              "</div>\n",
              "    <div class=\"colab-df-buttons\">\n",
              "\n",
              "  <div class=\"colab-df-container\">\n",
              "    <button class=\"colab-df-convert\" onclick=\"convertToInteractive('df-e4c04b65-bee6-490b-bea5-60338daf9b16')\"\n",
              "            title=\"Convert this dataframe to an interactive table.\"\n",
              "            style=\"display:none;\">\n",
              "\n",
              "  <svg xmlns=\"http://www.w3.org/2000/svg\" height=\"24px\" viewBox=\"0 -960 960 960\">\n",
              "    <path d=\"M120-120v-720h720v720H120Zm60-500h600v-160H180v160Zm220 220h160v-160H400v160Zm0 220h160v-160H400v160ZM180-400h160v-160H180v160Zm440 0h160v-160H620v160ZM180-180h160v-160H180v160Zm440 0h160v-160H620v160Z\"/>\n",
              "  </svg>\n",
              "    </button>\n",
              "\n",
              "  <style>\n",
              "    .colab-df-container {\n",
              "      display:flex;\n",
              "      gap: 12px;\n",
              "    }\n",
              "\n",
              "    .colab-df-convert {\n",
              "      background-color: #E8F0FE;\n",
              "      border: none;\n",
              "      border-radius: 50%;\n",
              "      cursor: pointer;\n",
              "      display: none;\n",
              "      fill: #1967D2;\n",
              "      height: 32px;\n",
              "      padding: 0 0 0 0;\n",
              "      width: 32px;\n",
              "    }\n",
              "\n",
              "    .colab-df-convert:hover {\n",
              "      background-color: #E2EBFA;\n",
              "      box-shadow: 0px 1px 2px rgba(60, 64, 67, 0.3), 0px 1px 3px 1px rgba(60, 64, 67, 0.15);\n",
              "      fill: #174EA6;\n",
              "    }\n",
              "\n",
              "    .colab-df-buttons div {\n",
              "      margin-bottom: 4px;\n",
              "    }\n",
              "\n",
              "    [theme=dark] .colab-df-convert {\n",
              "      background-color: #3B4455;\n",
              "      fill: #D2E3FC;\n",
              "    }\n",
              "\n",
              "    [theme=dark] .colab-df-convert:hover {\n",
              "      background-color: #434B5C;\n",
              "      box-shadow: 0px 1px 3px 1px rgba(0, 0, 0, 0.15);\n",
              "      filter: drop-shadow(0px 1px 2px rgba(0, 0, 0, 0.3));\n",
              "      fill: #FFFFFF;\n",
              "    }\n",
              "  </style>\n",
              "\n",
              "    <script>\n",
              "      const buttonEl =\n",
              "        document.querySelector('#df-e4c04b65-bee6-490b-bea5-60338daf9b16 button.colab-df-convert');\n",
              "      buttonEl.style.display =\n",
              "        google.colab.kernel.accessAllowed ? 'block' : 'none';\n",
              "\n",
              "      async function convertToInteractive(key) {\n",
              "        const element = document.querySelector('#df-e4c04b65-bee6-490b-bea5-60338daf9b16');\n",
              "        const dataTable =\n",
              "          await google.colab.kernel.invokeFunction('convertToInteractive',\n",
              "                                                    [key], {});\n",
              "        if (!dataTable) return;\n",
              "\n",
              "        const docLinkHtml = 'Like what you see? Visit the ' +\n",
              "          '<a target=\"_blank\" href=https://colab.research.google.com/notebooks/data_table.ipynb>data table notebook</a>'\n",
              "          + ' to learn more about interactive tables.';\n",
              "        element.innerHTML = '';\n",
              "        dataTable['output_type'] = 'display_data';\n",
              "        await google.colab.output.renderOutput(dataTable, element);\n",
              "        const docLink = document.createElement('div');\n",
              "        docLink.innerHTML = docLinkHtml;\n",
              "        element.appendChild(docLink);\n",
              "      }\n",
              "    </script>\n",
              "  </div>\n",
              "\n",
              "\n",
              "<div id=\"df-9f67c1a8-9b51-404b-8694-5c02ab22f087\">\n",
              "  <button class=\"colab-df-quickchart\" onclick=\"quickchart('df-9f67c1a8-9b51-404b-8694-5c02ab22f087')\"\n",
              "            title=\"Suggest charts\"\n",
              "            style=\"display:none;\">\n",
              "\n",
              "<svg xmlns=\"http://www.w3.org/2000/svg\" height=\"24px\"viewBox=\"0 0 24 24\"\n",
              "     width=\"24px\">\n",
              "    <g>\n",
              "        <path d=\"M19 3H5c-1.1 0-2 .9-2 2v14c0 1.1.9 2 2 2h14c1.1 0 2-.9 2-2V5c0-1.1-.9-2-2-2zM9 17H7v-7h2v7zm4 0h-2V7h2v10zm4 0h-2v-4h2v4z\"/>\n",
              "    </g>\n",
              "</svg>\n",
              "  </button>\n",
              "\n",
              "<style>\n",
              "  .colab-df-quickchart {\n",
              "      --bg-color: #E8F0FE;\n",
              "      --fill-color: #1967D2;\n",
              "      --hover-bg-color: #E2EBFA;\n",
              "      --hover-fill-color: #174EA6;\n",
              "      --disabled-fill-color: #AAA;\n",
              "      --disabled-bg-color: #DDD;\n",
              "  }\n",
              "\n",
              "  [theme=dark] .colab-df-quickchart {\n",
              "      --bg-color: #3B4455;\n",
              "      --fill-color: #D2E3FC;\n",
              "      --hover-bg-color: #434B5C;\n",
              "      --hover-fill-color: #FFFFFF;\n",
              "      --disabled-bg-color: #3B4455;\n",
              "      --disabled-fill-color: #666;\n",
              "  }\n",
              "\n",
              "  .colab-df-quickchart {\n",
              "    background-color: var(--bg-color);\n",
              "    border: none;\n",
              "    border-radius: 50%;\n",
              "    cursor: pointer;\n",
              "    display: none;\n",
              "    fill: var(--fill-color);\n",
              "    height: 32px;\n",
              "    padding: 0;\n",
              "    width: 32px;\n",
              "  }\n",
              "\n",
              "  .colab-df-quickchart:hover {\n",
              "    background-color: var(--hover-bg-color);\n",
              "    box-shadow: 0 1px 2px rgba(60, 64, 67, 0.3), 0 1px 3px 1px rgba(60, 64, 67, 0.15);\n",
              "    fill: var(--button-hover-fill-color);\n",
              "  }\n",
              "\n",
              "  .colab-df-quickchart-complete:disabled,\n",
              "  .colab-df-quickchart-complete:disabled:hover {\n",
              "    background-color: var(--disabled-bg-color);\n",
              "    fill: var(--disabled-fill-color);\n",
              "    box-shadow: none;\n",
              "  }\n",
              "\n",
              "  .colab-df-spinner {\n",
              "    border: 2px solid var(--fill-color);\n",
              "    border-color: transparent;\n",
              "    border-bottom-color: var(--fill-color);\n",
              "    animation:\n",
              "      spin 1s steps(1) infinite;\n",
              "  }\n",
              "\n",
              "  @keyframes spin {\n",
              "    0% {\n",
              "      border-color: transparent;\n",
              "      border-bottom-color: var(--fill-color);\n",
              "      border-left-color: var(--fill-color);\n",
              "    }\n",
              "    20% {\n",
              "      border-color: transparent;\n",
              "      border-left-color: var(--fill-color);\n",
              "      border-top-color: var(--fill-color);\n",
              "    }\n",
              "    30% {\n",
              "      border-color: transparent;\n",
              "      border-left-color: var(--fill-color);\n",
              "      border-top-color: var(--fill-color);\n",
              "      border-right-color: var(--fill-color);\n",
              "    }\n",
              "    40% {\n",
              "      border-color: transparent;\n",
              "      border-right-color: var(--fill-color);\n",
              "      border-top-color: var(--fill-color);\n",
              "    }\n",
              "    60% {\n",
              "      border-color: transparent;\n",
              "      border-right-color: var(--fill-color);\n",
              "    }\n",
              "    80% {\n",
              "      border-color: transparent;\n",
              "      border-right-color: var(--fill-color);\n",
              "      border-bottom-color: var(--fill-color);\n",
              "    }\n",
              "    90% {\n",
              "      border-color: transparent;\n",
              "      border-bottom-color: var(--fill-color);\n",
              "    }\n",
              "  }\n",
              "</style>\n",
              "\n",
              "  <script>\n",
              "    async function quickchart(key) {\n",
              "      const quickchartButtonEl =\n",
              "        document.querySelector('#' + key + ' button');\n",
              "      quickchartButtonEl.disabled = true;  // To prevent multiple clicks.\n",
              "      quickchartButtonEl.classList.add('colab-df-spinner');\n",
              "      try {\n",
              "        const charts = await google.colab.kernel.invokeFunction(\n",
              "            'suggestCharts', [key], {});\n",
              "      } catch (error) {\n",
              "        console.error('Error during call to suggestCharts:', error);\n",
              "      }\n",
              "      quickchartButtonEl.classList.remove('colab-df-spinner');\n",
              "      quickchartButtonEl.classList.add('colab-df-quickchart-complete');\n",
              "    }\n",
              "    (() => {\n",
              "      let quickchartButtonEl =\n",
              "        document.querySelector('#df-9f67c1a8-9b51-404b-8694-5c02ab22f087 button');\n",
              "      quickchartButtonEl.style.display =\n",
              "        google.colab.kernel.accessAllowed ? 'block' : 'none';\n",
              "    })();\n",
              "  </script>\n",
              "</div>\n",
              "    </div>\n",
              "  </div>\n"
            ],
            "text/plain": [
              "                                                  Name Stars  \\\n",
              "20                                           Ashish R.  1.0    \n",
              "21                                           sai chand  1.0    \n",
              "22                                     Balwant Rathore  1.0    \n",
              "23                                              Naveen  1.0    \n",
              "24   Strongly  recommend don’t buy this, intolerabl...  1.0    \n",
              "..                                                 ...   ...   \n",
              "232                                        Placeholder  1.0    \n",
              "233                                              Rahul  1.0    \n",
              "234                                    JAGADISH BARMAN  1.0    \n",
              "235                                     Puneet Gothwal  1.0    \n",
              "236                                              Fazal  1.0    \n",
              "\n",
              "                                                 Title        Date  \\\n",
              "20                         1.0 out of 5 stars\\nHeating  23/03/2024   \n",
              "21                   1.0 out of 5 stars\\nHeating Issue  15/03/2024   \n",
              "22                       1.0 out of 5 stars\\nआइफ़ोन १५  19/01/2024   \n",
              "23                             1.0 out of 5 stars\\nBad  15/10/2023   \n",
              "24                   1.0 out of 5 stars\\nTotally waste  23/11/2023   \n",
              "..                                                 ...         ...   \n",
              "232                    1.0 out of 5 stars\\nPro quality  04/12/2021   \n",
              "233                   1.0 out of 5 stars\\nExpired item  06/05/2021   \n",
              "234                       1.0 out of 5 stars\\nVery bad  28/08/2019   \n",
              "235  1.0 out of 5 stars\\nLow quality and item shown...  15/08/2023   \n",
              "236  1.0 out of 5 stars\\nDont Buy over Description ...  05/05/2022   \n",
              "\n",
              "                                           Description       Product Name  \n",
              "20   Without use kiye hi phone heat hota rhta h Bat...                NaN  \n",
              "21   Facing heating issues. Camera quality is not i...                NaN  \n",
              "22         camera quality very poor, performance इस लो                NaN  \n",
              "23   Worst iphone I ever seen. I hate this phone . ...                NaN  \n",
              "24             Heating issues even after 17.1.1 update                NaN  \n",
              "..                                                 ...                ...  \n",
              "232                       Quality not good bro quality  Verified Purchase  \n",
              "233                    Delivered about to expire item.  Verified Purchase  \n",
              "234                                       Faltu no 1..  Verified Purchase  \n",
              "235        Fake Amazon sale. Lack of customer support.  Verified Purchase  \n",
              "236                Fake Descriptions very Disappointed  Verified Purchase  \n",
              "\n",
              "[217 rows x 6 columns]"
            ]
          },
          "execution_count": 52,
          "metadata": {},
          "output_type": "execute_result"
        }
      ],
      "source": [
        "df_reviews[df_reviews['Date']!='N/A']"
      ]
    },
    {
      "cell_type": "code",
      "execution_count": null,
      "id": "-BBITbMFq2Ew",
      "metadata": {
        "id": "-BBITbMFq2Ew"
      },
      "outputs": [],
      "source": []
    },
    {
      "cell_type": "code",
      "execution_count": null,
      "id": "e6a75572",
      "metadata": {
        "id": "e6a75572"
      },
      "outputs": [],
      "source": [
        "df_reviews.to_csv(\"Diff_Prod_Reviews.csv\",index=False)"
      ]
    },
    {
      "cell_type": "code",
      "execution_count": null,
      "id": "v-OTG9RMxOGQ",
      "metadata": {
        "colab": {
          "base_uri": "https://localhost:8080/"
        },
        "id": "v-OTG9RMxOGQ",
        "outputId": "6a37ffbe-2a14-41bb-db7a-b59d85eeea55"
      },
      "outputs": [
        {
          "data": {
            "text/plain": [
              "(1082, 6)"
            ]
          },
          "execution_count": 33,
          "metadata": {},
          "output_type": "execute_result"
        }
      ],
      "source": [
        "df_reviews.shape"
      ]
    },
    {
      "cell_type": "code",
      "execution_count": null,
      "id": "22f9a1e5",
      "metadata": {
        "id": "22f9a1e5"
      },
      "outputs": [],
      "source": []
    },
    {
      "cell_type": "code",
      "execution_count": null,
      "id": "c56e9819",
      "metadata": {
        "id": "c56e9819"
      },
      "outputs": [],
      "source": []
    },
    {
      "cell_type": "code",
      "execution_count": null,
      "id": "aeVidojnkeob",
      "metadata": {
        "id": "aeVidojnkeob"
      },
      "outputs": [],
      "source": []
    },
    {
      "cell_type": "code",
      "execution_count": null,
      "id": "6JLJETM7kerd",
      "metadata": {
        "id": "6JLJETM7kerd"
      },
      "outputs": [],
      "source": []
    },
    {
      "cell_type": "code",
      "execution_count": null,
      "id": "bBbsFEstket4",
      "metadata": {
        "id": "bBbsFEstket4"
      },
      "outputs": [],
      "source": []
    },
    {
      "cell_type": "code",
      "execution_count": null,
      "id": "Smjl5YizkewO",
      "metadata": {
        "id": "Smjl5YizkewO"
      },
      "outputs": [],
      "source": []
    }
  ],
  "metadata": {
    "colab": {
      "provenance": []
    },
    "kernelspec": {
      "display_name": "Python 3 (ipykernel)",
      "language": "python",
      "name": "python3"
    },
    "language_info": {
      "codemirror_mode": {
        "name": "ipython",
        "version": 3
      },
      "file_extension": ".py",
      "mimetype": "text/x-python",
      "name": "python",
      "nbconvert_exporter": "python",
      "pygments_lexer": "ipython3",
      "version": "3.11.5"
    }
  },
  "nbformat": 4,
  "nbformat_minor": 5
}