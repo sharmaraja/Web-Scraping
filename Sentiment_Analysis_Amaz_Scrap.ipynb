{
  "nbformat": 4,
  "nbformat_minor": 0,
  "metadata": {
    "colab": {
      "provenance": [],
      "gpuType": "T4"
    },
    "kernelspec": {
      "name": "python3",
      "display_name": "Python 3"
    },
    "language_info": {
      "name": "python"
    },
    "accelerator": "GPU"
  },
  "cells": [
    {
      "cell_type": "code",
      "source": [
        "pip install sentence-transformers"
      ],
      "metadata": {
        "id": "lT5LzMie6RJQ"
      },
      "execution_count": null,
      "outputs": []
    },
    {
      "cell_type": "code",
      "source": [
        "pip install torch"
      ],
      "metadata": {
        "id": "70GDESEA6RFr"
      },
      "execution_count": null,
      "outputs": []
    },
    {
      "cell_type": "code",
      "source": [
        "pip install GPUtil"
      ],
      "metadata": {
        "id": "3-3H4YIunhQS"
      },
      "execution_count": null,
      "outputs": []
    },
    {
      "cell_type": "code",
      "source": [
        "import torch\n",
        "import psutil\n",
        "import time\n"
      ],
      "metadata": {
        "id": "FXh6ajB2emGc"
      },
      "execution_count": 4,
      "outputs": []
    },
    {
      "cell_type": "code",
      "source": [
        "import GPUtil"
      ],
      "metadata": {
        "id": "qp1Pj4_anNdP"
      },
      "execution_count": 5,
      "outputs": []
    },
    {
      "cell_type": "code",
      "execution_count": 6,
      "metadata": {
        "id": "41e_or2rNMqE"
      },
      "outputs": [],
      "source": [
        "from transformers import AutoModelForSequenceClassification\n",
        "from transformers import TFAutoModelForSequenceClassification\n",
        "from transformers import AutoTokenizer, AutoConfig\n",
        "import numpy as np\n",
        "from scipy.special import softmax"
      ]
    },
    {
      "cell_type": "code",
      "source": [
        "import pandas as pd\n",
        "import numpy as np"
      ],
      "metadata": {
        "id": "1Y2MPgvor5Ai"
      },
      "execution_count": 7,
      "outputs": []
    },
    {
      "cell_type": "code",
      "source": [
        "# from sentence_transformers import SentenceTransformer, util"
      ],
      "metadata": {
        "id": "ygi0SeMG6RCk"
      },
      "execution_count": null,
      "outputs": []
    },
    {
      "cell_type": "code",
      "source": [],
      "metadata": {
        "id": "6WVRroXjeqeV"
      },
      "execution_count": 8,
      "outputs": []
    },
    {
      "cell_type": "code",
      "source": [
        "MODEL = f\"cardiffnlp/twitter-roberta-base-sentiment-latest\""
      ],
      "metadata": {
        "id": "ryyJnqNqNuNJ"
      },
      "execution_count": 9,
      "outputs": []
    },
    {
      "cell_type": "code",
      "source": [
        "tokenizer = AutoTokenizer.from_pretrained(MODEL)\n",
        "config = AutoConfig.from_pretrained(MODEL)\n",
        "# PT\n",
        "model = AutoModelForSequenceClassification.from_pretrained(MODEL)\n",
        "#model.save_pretrained(MODEL)"
      ],
      "metadata": {
        "id": "yBctbvFKNWm8"
      },
      "execution_count": null,
      "outputs": []
    },
    {
      "cell_type": "code",
      "source": [
        "data = pd.read_csv(\"/content/Diff_Prod_Reviews.csv\")"
      ],
      "metadata": {
        "id": "kAYCHY8vr49K"
      },
      "execution_count": 11,
      "outputs": []
    },
    {
      "cell_type": "code",
      "source": [
        "data[:5]"
      ],
      "metadata": {
        "colab": {
          "base_uri": "https://localhost:8080/",
          "height": 293
        },
        "id": "xRhoU8ex8KSB",
        "outputId": "9552dddc-9a0f-4526-ae22-cbae70089ac2"
      },
      "execution_count": 12,
      "outputs": [
        {
          "output_type": "execute_result",
          "data": {
            "text/plain": [
              "              Name                                       Product Name  Stars  \\\n",
              "0   Chandan Bhagat  Nike Women's WMNS Revolution 4 Obsdn/Mountain ...    1.0   \n",
              "1    akshay sharma  Nike Women's WMNS Revolution 4 Obsdn/Mountain ...    2.0   \n",
              "2  Amazon Customer  Nike Women's WMNS Revolution 4 Obsdn/Mountain ...    2.0   \n",
              "3   Himanshu Yadav  Nike Women's WMNS Revolution 4 Obsdn/Mountain ...    1.0   \n",
              "4            Pooja  Nike Women's WMNS Revolution 4 Obsdn/Mountain ...    1.0   \n",
              "\n",
              "                                 Title        Date  \\\n",
              "0      1.0 out of 5 stars\\nBad quality  11-04-2024   \n",
              "1  2.0 out of 5 stars\\nQuality issues.  20-10-2019   \n",
              "2  2.0 out of 5 stars\\nNot comfortable  14-06-2019   \n",
              "3   1.0 out of 5 stars\\nFake nike shoe  25-10-2020   \n",
              "4       1.0 out of 5 stars\\nTorn shoes  13-07-2020   \n",
              "\n",
              "                                         Description  \n",
              "0  Shoes sole came out in 4th day of usage, very ...  \n",
              "1  Have to return it because of quality issues al...  \n",
              "2                                     Not satisfying  \n",
              "3  The product was not found original and branded...  \n",
              "4          The box was damaged and the shoe was torn  "
            ],
            "text/html": [
              "\n",
              "  <div id=\"df-33a6263d-8043-4ee8-b35e-8835ea0b50f9\" class=\"colab-df-container\">\n",
              "    <div>\n",
              "<style scoped>\n",
              "    .dataframe tbody tr th:only-of-type {\n",
              "        vertical-align: middle;\n",
              "    }\n",
              "\n",
              "    .dataframe tbody tr th {\n",
              "        vertical-align: top;\n",
              "    }\n",
              "\n",
              "    .dataframe thead th {\n",
              "        text-align: right;\n",
              "    }\n",
              "</style>\n",
              "<table border=\"1\" class=\"dataframe\">\n",
              "  <thead>\n",
              "    <tr style=\"text-align: right;\">\n",
              "      <th></th>\n",
              "      <th>Name</th>\n",
              "      <th>Product Name</th>\n",
              "      <th>Stars</th>\n",
              "      <th>Title</th>\n",
              "      <th>Date</th>\n",
              "      <th>Description</th>\n",
              "    </tr>\n",
              "  </thead>\n",
              "  <tbody>\n",
              "    <tr>\n",
              "      <th>0</th>\n",
              "      <td>Chandan Bhagat</td>\n",
              "      <td>Nike Women's WMNS Revolution 4 Obsdn/Mountain ...</td>\n",
              "      <td>1.0</td>\n",
              "      <td>1.0 out of 5 stars\\nBad quality</td>\n",
              "      <td>11-04-2024</td>\n",
              "      <td>Shoes sole came out in 4th day of usage, very ...</td>\n",
              "    </tr>\n",
              "    <tr>\n",
              "      <th>1</th>\n",
              "      <td>akshay sharma</td>\n",
              "      <td>Nike Women's WMNS Revolution 4 Obsdn/Mountain ...</td>\n",
              "      <td>2.0</td>\n",
              "      <td>2.0 out of 5 stars\\nQuality issues.</td>\n",
              "      <td>20-10-2019</td>\n",
              "      <td>Have to return it because of quality issues al...</td>\n",
              "    </tr>\n",
              "    <tr>\n",
              "      <th>2</th>\n",
              "      <td>Amazon Customer</td>\n",
              "      <td>Nike Women's WMNS Revolution 4 Obsdn/Mountain ...</td>\n",
              "      <td>2.0</td>\n",
              "      <td>2.0 out of 5 stars\\nNot comfortable</td>\n",
              "      <td>14-06-2019</td>\n",
              "      <td>Not satisfying</td>\n",
              "    </tr>\n",
              "    <tr>\n",
              "      <th>3</th>\n",
              "      <td>Himanshu Yadav</td>\n",
              "      <td>Nike Women's WMNS Revolution 4 Obsdn/Mountain ...</td>\n",
              "      <td>1.0</td>\n",
              "      <td>1.0 out of 5 stars\\nFake nike shoe</td>\n",
              "      <td>25-10-2020</td>\n",
              "      <td>The product was not found original and branded...</td>\n",
              "    </tr>\n",
              "    <tr>\n",
              "      <th>4</th>\n",
              "      <td>Pooja</td>\n",
              "      <td>Nike Women's WMNS Revolution 4 Obsdn/Mountain ...</td>\n",
              "      <td>1.0</td>\n",
              "      <td>1.0 out of 5 stars\\nTorn shoes</td>\n",
              "      <td>13-07-2020</td>\n",
              "      <td>The box was damaged and the shoe was torn</td>\n",
              "    </tr>\n",
              "  </tbody>\n",
              "</table>\n",
              "</div>\n",
              "    <div class=\"colab-df-buttons\">\n",
              "\n",
              "  <div class=\"colab-df-container\">\n",
              "    <button class=\"colab-df-convert\" onclick=\"convertToInteractive('df-33a6263d-8043-4ee8-b35e-8835ea0b50f9')\"\n",
              "            title=\"Convert this dataframe to an interactive table.\"\n",
              "            style=\"display:none;\">\n",
              "\n",
              "  <svg xmlns=\"http://www.w3.org/2000/svg\" height=\"24px\" viewBox=\"0 -960 960 960\">\n",
              "    <path d=\"M120-120v-720h720v720H120Zm60-500h600v-160H180v160Zm220 220h160v-160H400v160Zm0 220h160v-160H400v160ZM180-400h160v-160H180v160Zm440 0h160v-160H620v160ZM180-180h160v-160H180v160Zm440 0h160v-160H620v160Z\"/>\n",
              "  </svg>\n",
              "    </button>\n",
              "\n",
              "  <style>\n",
              "    .colab-df-container {\n",
              "      display:flex;\n",
              "      gap: 12px;\n",
              "    }\n",
              "\n",
              "    .colab-df-convert {\n",
              "      background-color: #E8F0FE;\n",
              "      border: none;\n",
              "      border-radius: 50%;\n",
              "      cursor: pointer;\n",
              "      display: none;\n",
              "      fill: #1967D2;\n",
              "      height: 32px;\n",
              "      padding: 0 0 0 0;\n",
              "      width: 32px;\n",
              "    }\n",
              "\n",
              "    .colab-df-convert:hover {\n",
              "      background-color: #E2EBFA;\n",
              "      box-shadow: 0px 1px 2px rgba(60, 64, 67, 0.3), 0px 1px 3px 1px rgba(60, 64, 67, 0.15);\n",
              "      fill: #174EA6;\n",
              "    }\n",
              "\n",
              "    .colab-df-buttons div {\n",
              "      margin-bottom: 4px;\n",
              "    }\n",
              "\n",
              "    [theme=dark] .colab-df-convert {\n",
              "      background-color: #3B4455;\n",
              "      fill: #D2E3FC;\n",
              "    }\n",
              "\n",
              "    [theme=dark] .colab-df-convert:hover {\n",
              "      background-color: #434B5C;\n",
              "      box-shadow: 0px 1px 3px 1px rgba(0, 0, 0, 0.15);\n",
              "      filter: drop-shadow(0px 1px 2px rgba(0, 0, 0, 0.3));\n",
              "      fill: #FFFFFF;\n",
              "    }\n",
              "  </style>\n",
              "\n",
              "    <script>\n",
              "      const buttonEl =\n",
              "        document.querySelector('#df-33a6263d-8043-4ee8-b35e-8835ea0b50f9 button.colab-df-convert');\n",
              "      buttonEl.style.display =\n",
              "        google.colab.kernel.accessAllowed ? 'block' : 'none';\n",
              "\n",
              "      async function convertToInteractive(key) {\n",
              "        const element = document.querySelector('#df-33a6263d-8043-4ee8-b35e-8835ea0b50f9');\n",
              "        const dataTable =\n",
              "          await google.colab.kernel.invokeFunction('convertToInteractive',\n",
              "                                                    [key], {});\n",
              "        if (!dataTable) return;\n",
              "\n",
              "        const docLinkHtml = 'Like what you see? Visit the ' +\n",
              "          '<a target=\"_blank\" href=https://colab.research.google.com/notebooks/data_table.ipynb>data table notebook</a>'\n",
              "          + ' to learn more about interactive tables.';\n",
              "        element.innerHTML = '';\n",
              "        dataTable['output_type'] = 'display_data';\n",
              "        await google.colab.output.renderOutput(dataTable, element);\n",
              "        const docLink = document.createElement('div');\n",
              "        docLink.innerHTML = docLinkHtml;\n",
              "        element.appendChild(docLink);\n",
              "      }\n",
              "    </script>\n",
              "  </div>\n",
              "\n",
              "\n",
              "<div id=\"df-c7d73de0-4743-40bb-9ba4-889843bb60b4\">\n",
              "  <button class=\"colab-df-quickchart\" onclick=\"quickchart('df-c7d73de0-4743-40bb-9ba4-889843bb60b4')\"\n",
              "            title=\"Suggest charts\"\n",
              "            style=\"display:none;\">\n",
              "\n",
              "<svg xmlns=\"http://www.w3.org/2000/svg\" height=\"24px\"viewBox=\"0 0 24 24\"\n",
              "     width=\"24px\">\n",
              "    <g>\n",
              "        <path d=\"M19 3H5c-1.1 0-2 .9-2 2v14c0 1.1.9 2 2 2h14c1.1 0 2-.9 2-2V5c0-1.1-.9-2-2-2zM9 17H7v-7h2v7zm4 0h-2V7h2v10zm4 0h-2v-4h2v4z\"/>\n",
              "    </g>\n",
              "</svg>\n",
              "  </button>\n",
              "\n",
              "<style>\n",
              "  .colab-df-quickchart {\n",
              "      --bg-color: #E8F0FE;\n",
              "      --fill-color: #1967D2;\n",
              "      --hover-bg-color: #E2EBFA;\n",
              "      --hover-fill-color: #174EA6;\n",
              "      --disabled-fill-color: #AAA;\n",
              "      --disabled-bg-color: #DDD;\n",
              "  }\n",
              "\n",
              "  [theme=dark] .colab-df-quickchart {\n",
              "      --bg-color: #3B4455;\n",
              "      --fill-color: #D2E3FC;\n",
              "      --hover-bg-color: #434B5C;\n",
              "      --hover-fill-color: #FFFFFF;\n",
              "      --disabled-bg-color: #3B4455;\n",
              "      --disabled-fill-color: #666;\n",
              "  }\n",
              "\n",
              "  .colab-df-quickchart {\n",
              "    background-color: var(--bg-color);\n",
              "    border: none;\n",
              "    border-radius: 50%;\n",
              "    cursor: pointer;\n",
              "    display: none;\n",
              "    fill: var(--fill-color);\n",
              "    height: 32px;\n",
              "    padding: 0;\n",
              "    width: 32px;\n",
              "  }\n",
              "\n",
              "  .colab-df-quickchart:hover {\n",
              "    background-color: var(--hover-bg-color);\n",
              "    box-shadow: 0 1px 2px rgba(60, 64, 67, 0.3), 0 1px 3px 1px rgba(60, 64, 67, 0.15);\n",
              "    fill: var(--button-hover-fill-color);\n",
              "  }\n",
              "\n",
              "  .colab-df-quickchart-complete:disabled,\n",
              "  .colab-df-quickchart-complete:disabled:hover {\n",
              "    background-color: var(--disabled-bg-color);\n",
              "    fill: var(--disabled-fill-color);\n",
              "    box-shadow: none;\n",
              "  }\n",
              "\n",
              "  .colab-df-spinner {\n",
              "    border: 2px solid var(--fill-color);\n",
              "    border-color: transparent;\n",
              "    border-bottom-color: var(--fill-color);\n",
              "    animation:\n",
              "      spin 1s steps(1) infinite;\n",
              "  }\n",
              "\n",
              "  @keyframes spin {\n",
              "    0% {\n",
              "      border-color: transparent;\n",
              "      border-bottom-color: var(--fill-color);\n",
              "      border-left-color: var(--fill-color);\n",
              "    }\n",
              "    20% {\n",
              "      border-color: transparent;\n",
              "      border-left-color: var(--fill-color);\n",
              "      border-top-color: var(--fill-color);\n",
              "    }\n",
              "    30% {\n",
              "      border-color: transparent;\n",
              "      border-left-color: var(--fill-color);\n",
              "      border-top-color: var(--fill-color);\n",
              "      border-right-color: var(--fill-color);\n",
              "    }\n",
              "    40% {\n",
              "      border-color: transparent;\n",
              "      border-right-color: var(--fill-color);\n",
              "      border-top-color: var(--fill-color);\n",
              "    }\n",
              "    60% {\n",
              "      border-color: transparent;\n",
              "      border-right-color: var(--fill-color);\n",
              "    }\n",
              "    80% {\n",
              "      border-color: transparent;\n",
              "      border-right-color: var(--fill-color);\n",
              "      border-bottom-color: var(--fill-color);\n",
              "    }\n",
              "    90% {\n",
              "      border-color: transparent;\n",
              "      border-bottom-color: var(--fill-color);\n",
              "    }\n",
              "  }\n",
              "</style>\n",
              "\n",
              "  <script>\n",
              "    async function quickchart(key) {\n",
              "      const quickchartButtonEl =\n",
              "        document.querySelector('#' + key + ' button');\n",
              "      quickchartButtonEl.disabled = true;  // To prevent multiple clicks.\n",
              "      quickchartButtonEl.classList.add('colab-df-spinner');\n",
              "      try {\n",
              "        const charts = await google.colab.kernel.invokeFunction(\n",
              "            'suggestCharts', [key], {});\n",
              "      } catch (error) {\n",
              "        console.error('Error during call to suggestCharts:', error);\n",
              "      }\n",
              "      quickchartButtonEl.classList.remove('colab-df-spinner');\n",
              "      quickchartButtonEl.classList.add('colab-df-quickchart-complete');\n",
              "    }\n",
              "    (() => {\n",
              "      let quickchartButtonEl =\n",
              "        document.querySelector('#df-c7d73de0-4743-40bb-9ba4-889843bb60b4 button');\n",
              "      quickchartButtonEl.style.display =\n",
              "        google.colab.kernel.accessAllowed ? 'block' : 'none';\n",
              "    })();\n",
              "  </script>\n",
              "</div>\n",
              "    </div>\n",
              "  </div>\n"
            ],
            "application/vnd.google.colaboratory.intrinsic+json": {
              "type": "dataframe",
              "summary": "{\n  \"name\": \"data[:5]\",\n  \"rows\": 5,\n  \"fields\": [\n    {\n      \"column\": \"Name\",\n      \"properties\": {\n        \"dtype\": \"string\",\n        \"num_unique_values\": 5,\n        \"samples\": [\n          \"akshay sharma\",\n          \"Pooja\",\n          \"Amazon Customer\"\n        ],\n        \"semantic_type\": \"\",\n        \"description\": \"\"\n      }\n    },\n    {\n      \"column\": \"Product Name\",\n      \"properties\": {\n        \"dtype\": \"category\",\n        \"num_unique_values\": 1,\n        \"samples\": [\n          \"Nike Women's WMNS Revolution 4 Obsdn/Mountain Blue-T.Blue Running...\"\n        ],\n        \"semantic_type\": \"\",\n        \"description\": \"\"\n      }\n    },\n    {\n      \"column\": \"Stars\",\n      \"properties\": {\n        \"dtype\": \"number\",\n        \"std\": 0.5477225575051661,\n        \"min\": 1.0,\n        \"max\": 2.0,\n        \"num_unique_values\": 2,\n        \"samples\": [\n          2.0\n        ],\n        \"semantic_type\": \"\",\n        \"description\": \"\"\n      }\n    },\n    {\n      \"column\": \"Title\",\n      \"properties\": {\n        \"dtype\": \"string\",\n        \"num_unique_values\": 5,\n        \"samples\": [\n          \"2.0 out of 5 stars\\nQuality issues.\"\n        ],\n        \"semantic_type\": \"\",\n        \"description\": \"\"\n      }\n    },\n    {\n      \"column\": \"Date\",\n      \"properties\": {\n        \"dtype\": \"string\",\n        \"num_unique_values\": 5,\n        \"samples\": [\n          \"20-10-2019\"\n        ],\n        \"semantic_type\": \"\",\n        \"description\": \"\"\n      }\n    },\n    {\n      \"column\": \"Description\",\n      \"properties\": {\n        \"dtype\": \"string\",\n        \"num_unique_values\": 5,\n        \"samples\": [\n          \"Have to return it because of quality issues also they deliverd the wrong size than the size orderd.later i bought it from flipkart at 1000rs less than here.\"\n        ],\n        \"semantic_type\": \"\",\n        \"description\": \"\"\n      }\n    }\n  ]\n}"
            }
          },
          "metadata": {},
          "execution_count": 12
        }
      ]
    },
    {
      "cell_type": "code",
      "source": [
        "length = len(data)"
      ],
      "metadata": {
        "id": "AzVpyWrIr5Df"
      },
      "execution_count": 13,
      "outputs": []
    },
    {
      "cell_type": "code",
      "source": [
        "length"
      ],
      "metadata": {
        "colab": {
          "base_uri": "https://localhost:8080/"
        },
        "id": "1hwqt9TWs97J",
        "outputId": "60a511db-f807-476c-e235-4ff92aec9e8d"
      },
      "execution_count": 14,
      "outputs": [
        {
          "output_type": "execute_result",
          "data": {
            "text/plain": [
              "1082"
            ]
          },
          "metadata": {},
          "execution_count": 14
        }
      ]
    },
    {
      "cell_type": "code",
      "source": [
        "# Load a BERT model\n",
        "# topic_model = SentenceTransformer('paraphrase-MiniLM-L6-v2')"
      ],
      "metadata": {
        "id": "wW7F0c-vHotq"
      },
      "execution_count": null,
      "outputs": []
    },
    {
      "cell_type": "code",
      "source": [
        "# List of words\n",
        "# word_list = [\"Fit & Size\", \"Usage\", \"Feel\", \"Caregiver\", \"Activity\", \"Aesthetics\", \"Customer Service\", \"Protection\", \"Absorbency\", \"Medical Reco\", \"Packaging\", \"Cost\", \"Value\", \"Promo\"]"
      ],
      "metadata": {
        "id": "gt9sGMvQHoqR"
      },
      "execution_count": null,
      "outputs": []
    },
    {
      "cell_type": "code",
      "source": [
        "# Start time\n",
        "start_time = time.time()\n",
        "\n",
        "for i in range(length):\n",
        "  text = str(data.iloc[i,5])\n",
        "  encoded_input = tokenizer(text, return_tensors='pt')\n",
        "  output = model(**encoded_input)\n",
        "  scores = output[0][0].detach().numpy()\n",
        "  scores = softmax(scores)\n",
        "  ranking = np.argsort(scores)\n",
        "\n",
        "  data.loc[i,'Negative_Score'] = scores[0]\n",
        "  data.loc[i,'Neutral_Score'] = scores[1]\n",
        "  data.loc[i,'Positive_Score'] = scores[2]\n",
        "\n",
        "  if ranking[2] == 0:\n",
        "    data.loc[i,'Model_Sentiment'] = 'Negative'\n",
        "  elif ranking[2] == 1:\n",
        "    data.loc[i,'Model_Sentiment'] = 'Neutral'\n",
        "  elif ranking[2] == 2:\n",
        "    data.loc[i,'Model_Sentiment'] = 'Positive'\n",
        "  else:\n",
        "    data.loc[i,'Model_Sentiment'] = 'None'\n",
        "\n",
        "  # End time\n",
        "end_time = time.time()\n"
      ],
      "metadata": {
        "id": "YSTOBw6wr5G5"
      },
      "execution_count": 16,
      "outputs": []
    },
    {
      "cell_type": "code",
      "source": [
        "data"
      ],
      "metadata": {
        "id": "uuGZhiLSzMsF",
        "colab": {
          "base_uri": "https://localhost:8080/",
          "height": 1000
        },
        "outputId": "661c328d-5055-47fb-af44-c879db98063d"
      },
      "execution_count": 17,
      "outputs": [
        {
          "output_type": "execute_result",
          "data": {
            "text/plain": [
              "                 Name                                       Product Name  \\\n",
              "0      Chandan Bhagat  Nike Women's WMNS Revolution 4 Obsdn/Mountain ...   \n",
              "1       akshay sharma  Nike Women's WMNS Revolution 4 Obsdn/Mountain ...   \n",
              "2     Amazon Customer  Nike Women's WMNS Revolution 4 Obsdn/Mountain ...   \n",
              "3      Himanshu Yadav  Nike Women's WMNS Revolution 4 Obsdn/Mountain ...   \n",
              "4               Pooja  Nike Women's WMNS Revolution 4 Obsdn/Mountain ...   \n",
              "...               ...                                                ...   \n",
              "1077      Shanmugaraj  boAt BassHeads 100 in-Ear Wired Headphones wit...   \n",
              "1078           Yashik  boAt BassHeads 100 in-Ear Wired Headphones wit...   \n",
              "1079         Balaji M  boAt BassHeads 100 in-Ear Wired Headphones wit...   \n",
              "1080      Aravinda S.  boAt BassHeads 100 in-Ear Wired Headphones wit...   \n",
              "1081           Suhail  boAt BassHeads 100 in-Ear Wired Headphones wit...   \n",
              "\n",
              "      Stars                                              Title        Date  \\\n",
              "0       1.0                    1.0 out of 5 stars\\nBad quality  11-04-2024   \n",
              "1       2.0                2.0 out of 5 stars\\nQuality issues.  20-10-2019   \n",
              "2       2.0                2.0 out of 5 stars\\nNot comfortable  14-06-2019   \n",
              "3       1.0                 1.0 out of 5 stars\\nFake nike shoe  25-10-2020   \n",
              "4       1.0                     1.0 out of 5 stars\\nTorn shoes  13-07-2020   \n",
              "...     ...                                                ...         ...   \n",
              "1077    2.0        2.0 out of 5 stars\\nBuds are not fixed well  28-01-2024   \n",
              "1078    2.0  2.0 out of 5 stars\\nWorst music quality. Too m...  17-11-2023   \n",
              "1079    2.0                         2.0 out of 5 stars\\nMisfit  16-02-2024   \n",
              "1080    3.0           3.0 out of 5 stars\\nBoat wired Earphones  16-11-2023   \n",
              "1081    3.0                     3.0 out of 5 stars\\nDurability  02-05-2023   \n",
              "\n",
              "                                            Description  Negative_Score  \\\n",
              "0     Shoes sole came out in 4th day of usage, very ...        0.936720   \n",
              "1     Have to return it because of quality issues al...        0.874939   \n",
              "2                                        Not satisfying        0.721651   \n",
              "3     The product was not found original and branded...        0.575365   \n",
              "4             The box was damaged and the shoe was torn        0.843265   \n",
              "...                                                 ...             ...   \n",
              "1077  After using this headset, the buds are stuck i...        0.717453   \n",
              "1078  Here is an honest review. Too much hype in rat...        0.779119   \n",
              "1079  Very poor quality. The jack seems to be a misf...        0.936512   \n",
              "1080  The media could not be loaded.\\n              ...        0.611520   \n",
              "1081  Bought in September 2021 , got a replacement i...        0.773583   \n",
              "\n",
              "      Neutral_Score  Positive_Score Model_Sentiment  \n",
              "0          0.056717        0.006564        Negative  \n",
              "1          0.117490        0.007571        Negative  \n",
              "2          0.223401        0.054948        Negative  \n",
              "3          0.404719        0.019916        Negative  \n",
              "4          0.147426        0.009308        Negative  \n",
              "...             ...             ...             ...  \n",
              "1077       0.259458        0.023089        Negative  \n",
              "1078       0.181986        0.038895        Negative  \n",
              "1079       0.057451        0.006037        Negative  \n",
              "1080       0.353163        0.035317        Negative  \n",
              "1081       0.202745        0.023672        Negative  \n",
              "\n",
              "[1082 rows x 10 columns]"
            ],
            "text/html": [
              "\n",
              "  <div id=\"df-ffb93e52-c108-4225-9a14-36767e15bb35\" class=\"colab-df-container\">\n",
              "    <div>\n",
              "<style scoped>\n",
              "    .dataframe tbody tr th:only-of-type {\n",
              "        vertical-align: middle;\n",
              "    }\n",
              "\n",
              "    .dataframe tbody tr th {\n",
              "        vertical-align: top;\n",
              "    }\n",
              "\n",
              "    .dataframe thead th {\n",
              "        text-align: right;\n",
              "    }\n",
              "</style>\n",
              "<table border=\"1\" class=\"dataframe\">\n",
              "  <thead>\n",
              "    <tr style=\"text-align: right;\">\n",
              "      <th></th>\n",
              "      <th>Name</th>\n",
              "      <th>Product Name</th>\n",
              "      <th>Stars</th>\n",
              "      <th>Title</th>\n",
              "      <th>Date</th>\n",
              "      <th>Description</th>\n",
              "      <th>Negative_Score</th>\n",
              "      <th>Neutral_Score</th>\n",
              "      <th>Positive_Score</th>\n",
              "      <th>Model_Sentiment</th>\n",
              "    </tr>\n",
              "  </thead>\n",
              "  <tbody>\n",
              "    <tr>\n",
              "      <th>0</th>\n",
              "      <td>Chandan Bhagat</td>\n",
              "      <td>Nike Women's WMNS Revolution 4 Obsdn/Mountain ...</td>\n",
              "      <td>1.0</td>\n",
              "      <td>1.0 out of 5 stars\\nBad quality</td>\n",
              "      <td>11-04-2024</td>\n",
              "      <td>Shoes sole came out in 4th day of usage, very ...</td>\n",
              "      <td>0.936720</td>\n",
              "      <td>0.056717</td>\n",
              "      <td>0.006564</td>\n",
              "      <td>Negative</td>\n",
              "    </tr>\n",
              "    <tr>\n",
              "      <th>1</th>\n",
              "      <td>akshay sharma</td>\n",
              "      <td>Nike Women's WMNS Revolution 4 Obsdn/Mountain ...</td>\n",
              "      <td>2.0</td>\n",
              "      <td>2.0 out of 5 stars\\nQuality issues.</td>\n",
              "      <td>20-10-2019</td>\n",
              "      <td>Have to return it because of quality issues al...</td>\n",
              "      <td>0.874939</td>\n",
              "      <td>0.117490</td>\n",
              "      <td>0.007571</td>\n",
              "      <td>Negative</td>\n",
              "    </tr>\n",
              "    <tr>\n",
              "      <th>2</th>\n",
              "      <td>Amazon Customer</td>\n",
              "      <td>Nike Women's WMNS Revolution 4 Obsdn/Mountain ...</td>\n",
              "      <td>2.0</td>\n",
              "      <td>2.0 out of 5 stars\\nNot comfortable</td>\n",
              "      <td>14-06-2019</td>\n",
              "      <td>Not satisfying</td>\n",
              "      <td>0.721651</td>\n",
              "      <td>0.223401</td>\n",
              "      <td>0.054948</td>\n",
              "      <td>Negative</td>\n",
              "    </tr>\n",
              "    <tr>\n",
              "      <th>3</th>\n",
              "      <td>Himanshu Yadav</td>\n",
              "      <td>Nike Women's WMNS Revolution 4 Obsdn/Mountain ...</td>\n",
              "      <td>1.0</td>\n",
              "      <td>1.0 out of 5 stars\\nFake nike shoe</td>\n",
              "      <td>25-10-2020</td>\n",
              "      <td>The product was not found original and branded...</td>\n",
              "      <td>0.575365</td>\n",
              "      <td>0.404719</td>\n",
              "      <td>0.019916</td>\n",
              "      <td>Negative</td>\n",
              "    </tr>\n",
              "    <tr>\n",
              "      <th>4</th>\n",
              "      <td>Pooja</td>\n",
              "      <td>Nike Women's WMNS Revolution 4 Obsdn/Mountain ...</td>\n",
              "      <td>1.0</td>\n",
              "      <td>1.0 out of 5 stars\\nTorn shoes</td>\n",
              "      <td>13-07-2020</td>\n",
              "      <td>The box was damaged and the shoe was torn</td>\n",
              "      <td>0.843265</td>\n",
              "      <td>0.147426</td>\n",
              "      <td>0.009308</td>\n",
              "      <td>Negative</td>\n",
              "    </tr>\n",
              "    <tr>\n",
              "      <th>...</th>\n",
              "      <td>...</td>\n",
              "      <td>...</td>\n",
              "      <td>...</td>\n",
              "      <td>...</td>\n",
              "      <td>...</td>\n",
              "      <td>...</td>\n",
              "      <td>...</td>\n",
              "      <td>...</td>\n",
              "      <td>...</td>\n",
              "      <td>...</td>\n",
              "    </tr>\n",
              "    <tr>\n",
              "      <th>1077</th>\n",
              "      <td>Shanmugaraj</td>\n",
              "      <td>boAt BassHeads 100 in-Ear Wired Headphones wit...</td>\n",
              "      <td>2.0</td>\n",
              "      <td>2.0 out of 5 stars\\nBuds are not fixed well</td>\n",
              "      <td>28-01-2024</td>\n",
              "      <td>After using this headset, the buds are stuck i...</td>\n",
              "      <td>0.717453</td>\n",
              "      <td>0.259458</td>\n",
              "      <td>0.023089</td>\n",
              "      <td>Negative</td>\n",
              "    </tr>\n",
              "    <tr>\n",
              "      <th>1078</th>\n",
              "      <td>Yashik</td>\n",
              "      <td>boAt BassHeads 100 in-Ear Wired Headphones wit...</td>\n",
              "      <td>2.0</td>\n",
              "      <td>2.0 out of 5 stars\\nWorst music quality. Too m...</td>\n",
              "      <td>17-11-2023</td>\n",
              "      <td>Here is an honest review. Too much hype in rat...</td>\n",
              "      <td>0.779119</td>\n",
              "      <td>0.181986</td>\n",
              "      <td>0.038895</td>\n",
              "      <td>Negative</td>\n",
              "    </tr>\n",
              "    <tr>\n",
              "      <th>1079</th>\n",
              "      <td>Balaji M</td>\n",
              "      <td>boAt BassHeads 100 in-Ear Wired Headphones wit...</td>\n",
              "      <td>2.0</td>\n",
              "      <td>2.0 out of 5 stars\\nMisfit</td>\n",
              "      <td>16-02-2024</td>\n",
              "      <td>Very poor quality. The jack seems to be a misf...</td>\n",
              "      <td>0.936512</td>\n",
              "      <td>0.057451</td>\n",
              "      <td>0.006037</td>\n",
              "      <td>Negative</td>\n",
              "    </tr>\n",
              "    <tr>\n",
              "      <th>1080</th>\n",
              "      <td>Aravinda S.</td>\n",
              "      <td>boAt BassHeads 100 in-Ear Wired Headphones wit...</td>\n",
              "      <td>3.0</td>\n",
              "      <td>3.0 out of 5 stars\\nBoat wired Earphones</td>\n",
              "      <td>16-11-2023</td>\n",
              "      <td>The media could not be loaded.\\n              ...</td>\n",
              "      <td>0.611520</td>\n",
              "      <td>0.353163</td>\n",
              "      <td>0.035317</td>\n",
              "      <td>Negative</td>\n",
              "    </tr>\n",
              "    <tr>\n",
              "      <th>1081</th>\n",
              "      <td>Suhail</td>\n",
              "      <td>boAt BassHeads 100 in-Ear Wired Headphones wit...</td>\n",
              "      <td>3.0</td>\n",
              "      <td>3.0 out of 5 stars\\nDurability</td>\n",
              "      <td>02-05-2023</td>\n",
              "      <td>Bought in September 2021 , got a replacement i...</td>\n",
              "      <td>0.773583</td>\n",
              "      <td>0.202745</td>\n",
              "      <td>0.023672</td>\n",
              "      <td>Negative</td>\n",
              "    </tr>\n",
              "  </tbody>\n",
              "</table>\n",
              "<p>1082 rows × 10 columns</p>\n",
              "</div>\n",
              "    <div class=\"colab-df-buttons\">\n",
              "\n",
              "  <div class=\"colab-df-container\">\n",
              "    <button class=\"colab-df-convert\" onclick=\"convertToInteractive('df-ffb93e52-c108-4225-9a14-36767e15bb35')\"\n",
              "            title=\"Convert this dataframe to an interactive table.\"\n",
              "            style=\"display:none;\">\n",
              "\n",
              "  <svg xmlns=\"http://www.w3.org/2000/svg\" height=\"24px\" viewBox=\"0 -960 960 960\">\n",
              "    <path d=\"M120-120v-720h720v720H120Zm60-500h600v-160H180v160Zm220 220h160v-160H400v160Zm0 220h160v-160H400v160ZM180-400h160v-160H180v160Zm440 0h160v-160H620v160ZM180-180h160v-160H180v160Zm440 0h160v-160H620v160Z\"/>\n",
              "  </svg>\n",
              "    </button>\n",
              "\n",
              "  <style>\n",
              "    .colab-df-container {\n",
              "      display:flex;\n",
              "      gap: 12px;\n",
              "    }\n",
              "\n",
              "    .colab-df-convert {\n",
              "      background-color: #E8F0FE;\n",
              "      border: none;\n",
              "      border-radius: 50%;\n",
              "      cursor: pointer;\n",
              "      display: none;\n",
              "      fill: #1967D2;\n",
              "      height: 32px;\n",
              "      padding: 0 0 0 0;\n",
              "      width: 32px;\n",
              "    }\n",
              "\n",
              "    .colab-df-convert:hover {\n",
              "      background-color: #E2EBFA;\n",
              "      box-shadow: 0px 1px 2px rgba(60, 64, 67, 0.3), 0px 1px 3px 1px rgba(60, 64, 67, 0.15);\n",
              "      fill: #174EA6;\n",
              "    }\n",
              "\n",
              "    .colab-df-buttons div {\n",
              "      margin-bottom: 4px;\n",
              "    }\n",
              "\n",
              "    [theme=dark] .colab-df-convert {\n",
              "      background-color: #3B4455;\n",
              "      fill: #D2E3FC;\n",
              "    }\n",
              "\n",
              "    [theme=dark] .colab-df-convert:hover {\n",
              "      background-color: #434B5C;\n",
              "      box-shadow: 0px 1px 3px 1px rgba(0, 0, 0, 0.15);\n",
              "      filter: drop-shadow(0px 1px 2px rgba(0, 0, 0, 0.3));\n",
              "      fill: #FFFFFF;\n",
              "    }\n",
              "  </style>\n",
              "\n",
              "    <script>\n",
              "      const buttonEl =\n",
              "        document.querySelector('#df-ffb93e52-c108-4225-9a14-36767e15bb35 button.colab-df-convert');\n",
              "      buttonEl.style.display =\n",
              "        google.colab.kernel.accessAllowed ? 'block' : 'none';\n",
              "\n",
              "      async function convertToInteractive(key) {\n",
              "        const element = document.querySelector('#df-ffb93e52-c108-4225-9a14-36767e15bb35');\n",
              "        const dataTable =\n",
              "          await google.colab.kernel.invokeFunction('convertToInteractive',\n",
              "                                                    [key], {});\n",
              "        if (!dataTable) return;\n",
              "\n",
              "        const docLinkHtml = 'Like what you see? Visit the ' +\n",
              "          '<a target=\"_blank\" href=https://colab.research.google.com/notebooks/data_table.ipynb>data table notebook</a>'\n",
              "          + ' to learn more about interactive tables.';\n",
              "        element.innerHTML = '';\n",
              "        dataTable['output_type'] = 'display_data';\n",
              "        await google.colab.output.renderOutput(dataTable, element);\n",
              "        const docLink = document.createElement('div');\n",
              "        docLink.innerHTML = docLinkHtml;\n",
              "        element.appendChild(docLink);\n",
              "      }\n",
              "    </script>\n",
              "  </div>\n",
              "\n",
              "\n",
              "<div id=\"df-d7212398-535a-41e3-a523-44cd5c4a47ae\">\n",
              "  <button class=\"colab-df-quickchart\" onclick=\"quickchart('df-d7212398-535a-41e3-a523-44cd5c4a47ae')\"\n",
              "            title=\"Suggest charts\"\n",
              "            style=\"display:none;\">\n",
              "\n",
              "<svg xmlns=\"http://www.w3.org/2000/svg\" height=\"24px\"viewBox=\"0 0 24 24\"\n",
              "     width=\"24px\">\n",
              "    <g>\n",
              "        <path d=\"M19 3H5c-1.1 0-2 .9-2 2v14c0 1.1.9 2 2 2h14c1.1 0 2-.9 2-2V5c0-1.1-.9-2-2-2zM9 17H7v-7h2v7zm4 0h-2V7h2v10zm4 0h-2v-4h2v4z\"/>\n",
              "    </g>\n",
              "</svg>\n",
              "  </button>\n",
              "\n",
              "<style>\n",
              "  .colab-df-quickchart {\n",
              "      --bg-color: #E8F0FE;\n",
              "      --fill-color: #1967D2;\n",
              "      --hover-bg-color: #E2EBFA;\n",
              "      --hover-fill-color: #174EA6;\n",
              "      --disabled-fill-color: #AAA;\n",
              "      --disabled-bg-color: #DDD;\n",
              "  }\n",
              "\n",
              "  [theme=dark] .colab-df-quickchart {\n",
              "      --bg-color: #3B4455;\n",
              "      --fill-color: #D2E3FC;\n",
              "      --hover-bg-color: #434B5C;\n",
              "      --hover-fill-color: #FFFFFF;\n",
              "      --disabled-bg-color: #3B4455;\n",
              "      --disabled-fill-color: #666;\n",
              "  }\n",
              "\n",
              "  .colab-df-quickchart {\n",
              "    background-color: var(--bg-color);\n",
              "    border: none;\n",
              "    border-radius: 50%;\n",
              "    cursor: pointer;\n",
              "    display: none;\n",
              "    fill: var(--fill-color);\n",
              "    height: 32px;\n",
              "    padding: 0;\n",
              "    width: 32px;\n",
              "  }\n",
              "\n",
              "  .colab-df-quickchart:hover {\n",
              "    background-color: var(--hover-bg-color);\n",
              "    box-shadow: 0 1px 2px rgba(60, 64, 67, 0.3), 0 1px 3px 1px rgba(60, 64, 67, 0.15);\n",
              "    fill: var(--button-hover-fill-color);\n",
              "  }\n",
              "\n",
              "  .colab-df-quickchart-complete:disabled,\n",
              "  .colab-df-quickchart-complete:disabled:hover {\n",
              "    background-color: var(--disabled-bg-color);\n",
              "    fill: var(--disabled-fill-color);\n",
              "    box-shadow: none;\n",
              "  }\n",
              "\n",
              "  .colab-df-spinner {\n",
              "    border: 2px solid var(--fill-color);\n",
              "    border-color: transparent;\n",
              "    border-bottom-color: var(--fill-color);\n",
              "    animation:\n",
              "      spin 1s steps(1) infinite;\n",
              "  }\n",
              "\n",
              "  @keyframes spin {\n",
              "    0% {\n",
              "      border-color: transparent;\n",
              "      border-bottom-color: var(--fill-color);\n",
              "      border-left-color: var(--fill-color);\n",
              "    }\n",
              "    20% {\n",
              "      border-color: transparent;\n",
              "      border-left-color: var(--fill-color);\n",
              "      border-top-color: var(--fill-color);\n",
              "    }\n",
              "    30% {\n",
              "      border-color: transparent;\n",
              "      border-left-color: var(--fill-color);\n",
              "      border-top-color: var(--fill-color);\n",
              "      border-right-color: var(--fill-color);\n",
              "    }\n",
              "    40% {\n",
              "      border-color: transparent;\n",
              "      border-right-color: var(--fill-color);\n",
              "      border-top-color: var(--fill-color);\n",
              "    }\n",
              "    60% {\n",
              "      border-color: transparent;\n",
              "      border-right-color: var(--fill-color);\n",
              "    }\n",
              "    80% {\n",
              "      border-color: transparent;\n",
              "      border-right-color: var(--fill-color);\n",
              "      border-bottom-color: var(--fill-color);\n",
              "    }\n",
              "    90% {\n",
              "      border-color: transparent;\n",
              "      border-bottom-color: var(--fill-color);\n",
              "    }\n",
              "  }\n",
              "</style>\n",
              "\n",
              "  <script>\n",
              "    async function quickchart(key) {\n",
              "      const quickchartButtonEl =\n",
              "        document.querySelector('#' + key + ' button');\n",
              "      quickchartButtonEl.disabled = true;  // To prevent multiple clicks.\n",
              "      quickchartButtonEl.classList.add('colab-df-spinner');\n",
              "      try {\n",
              "        const charts = await google.colab.kernel.invokeFunction(\n",
              "            'suggestCharts', [key], {});\n",
              "      } catch (error) {\n",
              "        console.error('Error during call to suggestCharts:', error);\n",
              "      }\n",
              "      quickchartButtonEl.classList.remove('colab-df-spinner');\n",
              "      quickchartButtonEl.classList.add('colab-df-quickchart-complete');\n",
              "    }\n",
              "    (() => {\n",
              "      let quickchartButtonEl =\n",
              "        document.querySelector('#df-d7212398-535a-41e3-a523-44cd5c4a47ae button');\n",
              "      quickchartButtonEl.style.display =\n",
              "        google.colab.kernel.accessAllowed ? 'block' : 'none';\n",
              "    })();\n",
              "  </script>\n",
              "</div>\n",
              "    </div>\n",
              "  </div>\n"
            ],
            "application/vnd.google.colaboratory.intrinsic+json": {
              "type": "dataframe",
              "variable_name": "data",
              "summary": "{\n  \"name\": \"data\",\n  \"rows\": 1082,\n  \"fields\": [\n    {\n      \"column\": \"Name\",\n      \"properties\": {\n        \"dtype\": \"category\",\n        \"num_unique_values\": 191,\n        \"samples\": [\n          \"Surender Yadagiri\",\n          \"B0ss Man\",\n          \"Aakash\"\n        ],\n        \"semantic_type\": \"\",\n        \"description\": \"\"\n      }\n    },\n    {\n      \"column\": \"Product Name\",\n      \"properties\": {\n        \"dtype\": \"category\",\n        \"num_unique_values\": 3,\n        \"samples\": [\n          \"Nike Women's WMNS Revolution 4 Obsdn/Mountain Blue-T.Blue Running...\",\n          \"Apple iPhone 15 (128 GB) - Black\",\n          \"boAt BassHeads 100 in-Ear Wired Headphones with Mic (Black)\"\n        ],\n        \"semantic_type\": \"\",\n        \"description\": \"\"\n      }\n    },\n    {\n      \"column\": \"Stars\",\n      \"properties\": {\n        \"dtype\": \"number\",\n        \"std\": 0.9248337104197524,\n        \"min\": 1.0,\n        \"max\": 3.0,\n        \"num_unique_values\": 3,\n        \"samples\": [\n          1.0,\n          2.0,\n          3.0\n        ],\n        \"semantic_type\": \"\",\n        \"description\": \"\"\n      }\n    },\n    {\n      \"column\": \"Title\",\n      \"properties\": {\n        \"dtype\": \"category\",\n        \"num_unique_values\": 194,\n        \"samples\": [\n          \"3.0 out of 5 stars\\nClear sounds but no bass\",\n          \"Regret purchase\",\n          \"3.0 out of 5 stars\\nAverage product\"\n        ],\n        \"semantic_type\": \"\",\n        \"description\": \"\"\n      }\n    },\n    {\n      \"column\": \"Date\",\n      \"properties\": {\n        \"dtype\": \"category\",\n        \"num_unique_values\": 147,\n        \"samples\": [\n          \"15-09-2020\",\n          \"26-03-2024\",\n          \"16-11-2023\"\n        ],\n        \"semantic_type\": \"\",\n        \"description\": \"\"\n      }\n    },\n    {\n      \"column\": \"Description\",\n      \"properties\": {\n        \"dtype\": \"category\",\n        \"num_unique_values\": 202,\n        \"samples\": [\n          \"I recieved a used iPhone the box was already unboxed and not sealed and there were minor scratches on the screen as well as back please check serial number and verify it on Apple website\",\n          \"worn at a eatery during work and the soles are slippery\",\n          \"Too small for size. Ordered NEW, received USED. Soles worn.\"\n        ],\n        \"semantic_type\": \"\",\n        \"description\": \"\"\n      }\n    },\n    {\n      \"column\": \"Negative_Score\",\n      \"properties\": {\n        \"dtype\": \"number\",\n        \"std\": 0.34821483654818014,\n        \"min\": 0.0038118818774819374,\n        \"max\": 0.9557468295097351,\n        \"num_unique_values\": 203,\n        \"samples\": [\n          0.5076856017112732,\n          0.17465882003307343,\n          0.07719052582979202\n        ],\n        \"semantic_type\": \"\",\n        \"description\": \"\"\n      }\n    },\n    {\n      \"column\": \"Neutral_Score\",\n      \"properties\": {\n        \"dtype\": \"number\",\n        \"std\": 0.21632504861611965,\n        \"min\": 0.011445894837379456,\n        \"max\": 0.8637632727622986,\n        \"num_unique_values\": 203,\n        \"samples\": [\n          0.456201434135437,\n          0.23272380232810974,\n          0.7077982425689697\n        ],\n        \"semantic_type\": \"\",\n        \"description\": \"\"\n      }\n    },\n    {\n      \"column\": \"Positive_Score\",\n      \"properties\": {\n        \"dtype\": \"number\",\n        \"std\": 0.29761651092353003,\n        \"min\": 0.005342674441635609,\n        \"max\": 0.9843758940696716,\n        \"num_unique_values\": 203,\n        \"samples\": [\n          0.03611298277974129,\n          0.592617392539978,\n          0.21501131355762482\n        ],\n        \"semantic_type\": \"\",\n        \"description\": \"\"\n      }\n    },\n    {\n      \"column\": \"Model_Sentiment\",\n      \"properties\": {\n        \"dtype\": \"category\",\n        \"num_unique_values\": 3,\n        \"samples\": [\n          \"Negative\",\n          \"Neutral\",\n          \"Positive\"\n        ],\n        \"semantic_type\": \"\",\n        \"description\": \"\"\n      }\n    }\n  ]\n}"
            }
          },
          "metadata": {},
          "execution_count": 17
        }
      ]
    },
    {
      "cell_type": "code",
      "source": [
        "data['Model_Sentiment'].value_counts()"
      ],
      "metadata": {
        "colab": {
          "base_uri": "https://localhost:8080/"
        },
        "id": "KtfqZ9poAAr2",
        "outputId": "3f7f9a5c-1168-41d2-b402-132da171d1b6"
      },
      "execution_count": 27,
      "outputs": [
        {
          "output_type": "execute_result",
          "data": {
            "text/plain": [
              "Model_Sentiment\n",
              "Negative    647\n",
              "Neutral     234\n",
              "Positive    201\n",
              "Name: count, dtype: int64"
            ]
          },
          "metadata": {},
          "execution_count": 27
        }
      ]
    },
    {
      "cell_type": "code",
      "source": [
        "for i in data['Product Name'].unique():\n",
        "  print(\"\\nValue counts for \", i)\n",
        "  # data[data['Product Name'].str.contains('Nike')]['Model_Sentiment'].value_counts()\n",
        "  print(data[data['Product Name'] == i]['Model_Sentiment'].value_counts())\n",
        "  print(\"Mean for star rating of \",i)\n",
        "  print(round(np.mean(data[data['Product Name'] == i]['Stars']),0))"
      ],
      "metadata": {
        "colab": {
          "base_uri": "https://localhost:8080/"
        },
        "id": "yjdNRo7TAKL3",
        "outputId": "271631cf-0744-412e-c1cd-9aaf4d44eb83"
      },
      "execution_count": 39,
      "outputs": [
        {
          "output_type": "stream",
          "name": "stdout",
          "text": [
            "\n",
            "Value counts for  Nike Women's WMNS Revolution 4 Obsdn/Mountain Blue-T.Blue Running...\n",
            "Model_Sentiment\n",
            "Negative    24\n",
            "Positive     5\n",
            "Neutral      4\n",
            "Name: count, dtype: int64\n",
            "Mean for star rating of  Nike Women's WMNS Revolution 4 Obsdn/Mountain Blue-T.Blue Running...\n",
            "1.0\n",
            "\n",
            "Value counts for  Apple iPhone 15 (128 GB) - Black\n",
            "Model_Sentiment\n",
            "Negative    358\n",
            "Neutral      91\n",
            "Positive     50\n",
            "Name: count, dtype: int64\n",
            "Mean for star rating of  Apple iPhone 15 (128 GB) - Black\n",
            "1.0\n",
            "\n",
            "Value counts for  boAt BassHeads 100 in-Ear Wired Headphones with Mic (Black)\n",
            "Model_Sentiment\n",
            "Negative    265\n",
            "Positive    146\n",
            "Neutral     139\n",
            "Name: count, dtype: int64\n",
            "Mean for star rating of  boAt BassHeads 100 in-Ear Wired Headphones with Mic (Black)\n",
            "3.0\n"
          ]
        }
      ]
    },
    {
      "cell_type": "code",
      "source": [
        "data['Stars'].dtype"
      ],
      "metadata": {
        "colab": {
          "base_uri": "https://localhost:8080/"
        },
        "id": "MOgvNU53A2p3",
        "outputId": "bfe4679d-38e8-4900-a5a7-5c16065f1791"
      },
      "execution_count": 33,
      "outputs": [
        {
          "output_type": "execute_result",
          "data": {
            "text/plain": [
              "dtype('float64')"
            ]
          },
          "metadata": {},
          "execution_count": 33
        }
      ]
    },
    {
      "cell_type": "code",
      "source": [],
      "metadata": {
        "colab": {
          "base_uri": "https://localhost:8080/"
        },
        "id": "9J8A9XODAu3s",
        "outputId": "813e67fb-0d67-44c1-96f5-faa67a30dfd1"
      },
      "execution_count": 35,
      "outputs": [
        {
          "output_type": "execute_result",
          "data": {
            "text/plain": [
              "1.2857142857142858"
            ]
          },
          "metadata": {},
          "execution_count": 35
        }
      ]
    },
    {
      "cell_type": "code",
      "source": [
        "data.to_csv(\"Amz_Scrapped_Sentiment.csv\",index=False)"
      ],
      "metadata": {
        "id": "j7AuOi1ouw2z"
      },
      "execution_count": 18,
      "outputs": []
    },
    {
      "cell_type": "code",
      "source": [],
      "metadata": {
        "id": "BSOV2wMXHolV"
      },
      "execution_count": 19,
      "outputs": []
    },
    {
      "cell_type": "code",
      "source": [
        "# GPU stats\n",
        "gpu_usage = torch.cuda.memory_allocated()\n",
        "gpu_memory_allocated = torch.cuda.memory_allocated()\n",
        "gpu_memory_cached = torch.cuda.memory_reserved()\n",
        "\n",
        "# CPU stats\n",
        "cpu_usage = psutil.cpu_percent()\n",
        "cpu_memory_usage = psutil.virtual_memory().percent\n",
        "\n",
        "# Time taken\n",
        "time_taken = end_time - start_time\n",
        "\n",
        "\n",
        "# Print stats\n",
        "print(f\"GPU Usage: {gpu_usage} bytes\")\n",
        "print(f\"GPU Memory Allocated: {gpu_memory_allocated} bytes\")\n",
        "print(f\"GPU Memory Cached: {gpu_memory_cached} bytes\")\n",
        "print(f\"CPU Usage: {cpu_usage}%\")\n",
        "print(f\"CPU Memory Usage: {cpu_memory_usage}%\")\n",
        "print(f\"Time Taken: {time_taken} seconds\")"
      ],
      "metadata": {
        "id": "h1IVxMmcUjhj",
        "colab": {
          "base_uri": "https://localhost:8080/"
        },
        "outputId": "60273f9c-ef44-4732-8d00-34e4508178a5"
      },
      "execution_count": 22,
      "outputs": [
        {
          "output_type": "stream",
          "name": "stdout",
          "text": [
            "GPU Usage: 0 bytes\n",
            "GPU Memory Allocated: 0 bytes\n",
            "GPU Memory Cached: 0 bytes\n",
            "CPU Usage: 27.8%\n",
            "CPU Memory Usage: 21.4%\n",
            "Time Taken: 600.4442734718323 seconds\n"
          ]
        }
      ]
    },
    {
      "cell_type": "code",
      "source": [],
      "metadata": {
        "id": "ZMQwsTmIUjd4"
      },
      "execution_count": 22,
      "outputs": []
    },
    {
      "cell_type": "code",
      "source": [
        "# Get GPU information\n",
        "gpus = GPUtil.getGPUs()\n",
        "if gpus:\n",
        "    gpu = gpus[0]  # Assuming a single GPU is used\n",
        "    print(f\"GPU Name: {gpu.name}, GPU Memory Usage: {gpu.memoryUsed} MB\")\n"
      ],
      "metadata": {
        "id": "Rv6P5laUUjcq",
        "colab": {
          "base_uri": "https://localhost:8080/"
        },
        "outputId": "a845c92d-fe50-442d-c91d-519693cc59a2"
      },
      "execution_count": 23,
      "outputs": [
        {
          "output_type": "stream",
          "name": "stdout",
          "text": [
            "GPU Name: Tesla T4, GPU Memory Usage: 0.0 MB\n"
          ]
        }
      ]
    },
    {
      "cell_type": "code",
      "source": [
        "import subprocess\n",
        "\n",
        "def get_gpu_info():\n",
        "    try:\n",
        "        result = subprocess.run(['nvidia-smi', '--query-gpu=name,driver_version', '--format=csv,noheader'], stdout=subprocess.PIPE)\n",
        "        gpu_info = result.stdout.decode('utf-8').strip().split('\\n')\n",
        "        return gpu_info\n",
        "    except Exception as e:\n",
        "        print(f\"Error getting GPU information: {e}\")\n",
        "        return None"
      ],
      "metadata": {
        "id": "JDAI7ea7Ujav"
      },
      "execution_count": 24,
      "outputs": []
    },
    {
      "cell_type": "code",
      "source": [
        "gpu_info = get_gpu_info()\n",
        "if gpu_info:\n",
        "    for i, info in enumerate(gpu_info):\n",
        "        gpu_name, driver_version = info.split(',')\n",
        "        print(f\"GPU {i+1}: Name - {gpu_name.strip()}, Driver Version - {driver_version.strip()}\")\n",
        "else:\n",
        "    print(\"GPU information not available.\")"
      ],
      "metadata": {
        "id": "9i09jR0aUjZL",
        "colab": {
          "base_uri": "https://localhost:8080/"
        },
        "outputId": "722ef40a-79c9-4108-88c8-4eadccbcf4af"
      },
      "execution_count": 25,
      "outputs": [
        {
          "output_type": "stream",
          "name": "stdout",
          "text": [
            "GPU 1: Name - Tesla T4, Driver Version - 535.104.05\n"
          ]
        }
      ]
    },
    {
      "cell_type": "code",
      "source": [],
      "metadata": {
        "id": "jlg18C72wgEF"
      },
      "execution_count": null,
      "outputs": []
    }
  ]
}